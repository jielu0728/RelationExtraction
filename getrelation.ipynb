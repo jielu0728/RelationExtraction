{
 "cells": [
  {
   "cell_type": "code",
   "execution_count": 23,
   "metadata": {
    "collapsed": false
   },
   "outputs": [],
   "source": [
    "f = open('./text', 'r')\n",
    "f2 = open('./result', 'r')\n",
    "res = open('./keyphrases', 'w')\n",
    "name = []\n",
    "\n",
    "for line in f2:\n",
    "    name.append(line.split('      ')[0])\n",
    "    \n",
    "f2.close()\n",
    "\n",
    "keyword = ['brother']\n",
    "\n",
    "text = []\n",
    "\n",
    "for line in f:\n",
    "    if keyword[0] in line:\n",
    "        res.write(line)\n",
    "        \n",
    "f.close()\n",
    "f2.close()\n",
    "res.close()"
   ]
  }
 ],
 "metadata": {
  "kernelspec": {
   "display_name": "Python 2",
   "language": "python",
   "name": "python2"
  },
  "language_info": {
   "codemirror_mode": {
    "name": "ipython",
    "version": 2
   },
   "file_extension": ".py",
   "mimetype": "text/x-python",
   "name": "python",
   "nbconvert_exporter": "python",
   "pygments_lexer": "ipython2",
   "version": "2.7.6"
  }
 },
 "nbformat": 4,
 "nbformat_minor": 0
}
