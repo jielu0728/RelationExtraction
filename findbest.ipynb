{
 "cells": [
  {
   "cell_type": "code",
   "execution_count": 2,
   "metadata": {
    "collapsed": false
   },
   "outputs": [
    {
     "name": "stdout",
     "output_type": "stream",
     "text": [
      "the best score for method \"at most 2 lines distances between 2 persons\":\n",
      "\n",
      "configuration for adjusted rand score:\n",
      "\n",
      "damping=0.5, max_iter=9, convergence_iter=2, copy=True, preference=None, affinity=euclidean, verbose=False\n",
      "\n",
      "the score is : \n",
      "0.0531065147114\n",
      "\n",
      "configuration for adjusted mutual info score:\n",
      "\n",
      "damping=0.5, max_iter=11, convergence_iter=2, copy=True, preference=None, affinity=euclidean, verbose=False\n",
      "\n",
      "the score is : \n",
      "0.0777760411261\n",
      "\n"
     ]
    }
   ],
   "source": [
    "f = open('./result_evaluation')\n",
    "\n",
    "num = 0\n",
    "ars = 0.\n",
    "amis = 0.\n",
    "for line in f:\n",
    "    num = num + 1\n",
    "    context = line.split('\\n')[0]\n",
    "    if ',' in line:\n",
    "        num = 1\n",
    "        temp = context\n",
    "    if num == 2:\n",
    "        if float(context) > ars:\n",
    "            ars = float(context)\n",
    "            cfg_ars = temp\n",
    "    if num == 3:\n",
    "        if float(context) > amis:\n",
    "            amis = float(context)\n",
    "            cfg_amis = temp\n",
    "\n",
    "f.close()\n",
    "\n",
    "print 'the best score for method \\\"at most 2 lines distances between 2 persons\\\":\\n'\n",
    "print 'configuration for adjusted rand score:\\n'\n",
    "print cfg_ars+'\\n'\n",
    "print 'the score is : '\n",
    "print str(ars)+'\\n'\n",
    "print 'configuration for adjusted mutual info score:\\n'\n",
    "print cfg_amis+'\\n'\n",
    "print 'the score is : '\n",
    "print str(amis)+'\\n'"
   ]
  },
  {
   "cell_type": "markdown",
   "metadata": {},
   "source": [
    "OK the I will show the range of each parameter for affinity propagation (the only variable in this test):<br />\n",
    "AffinityPropagation(damping, max_iter, convergence_iter, copy, preference, affinity, verbose)<br />\n",
    "\n",
    "damping: [0.5, 0.95], step: 0.05             default: 0.5<br />\n",
    "max_iter: [2, 399], step: 1                  default: 200<br />\n",
    "convergence_iter: [1, 29], step: 1           default: 15<br />\n",
    "copy: True                                   default: True<br />\n",
    "preference: None                             default: None<br />\n",
    "affinity: ['euclidean', 'precomputed']       default: 'euclidean'<br />\n",
    "verbose: False                               default: False<br />\n",
    "\n",
    "I studied the result and I found that there is no need to set the ranges of max_iter and convergence_iter so big, as the value converges much earlier than the maximum, so I think the default values are sufficient as to accelerate the test."
   ]
  },
  {
   "cell_type": "code",
   "execution_count": 5,
   "metadata": {
    "collapsed": false
   },
   "outputs": [
    {
     "name": "stdout",
     "output_type": "stream",
     "text": [
      "the best score for method \"2 persons in a chapiter\":\n",
      "\n",
      "configuration for adjusted rand score:\n",
      "\n",
      "damping=0.5, max_iter=31, convergence_iter=2, copy=True, preference=None, affinity=precomputed, verbose=False\n",
      "\n",
      "the score is : \n",
      "0.0583072773608\n",
      "\n",
      "configuration for adjusted mutual info score:\n",
      "\n",
      "damping=0.5, max_iter=31, convergence_iter=2, copy=True, preference=None, affinity=precomputed, verbose=False\n",
      "\n",
      "the score is : \n",
      "0.0882618007983\n",
      "\n"
     ]
    }
   ],
   "source": [
    "f = open('./result_evaluation_chapiter')\n",
    "\n",
    "num = 0\n",
    "ars = 0.\n",
    "amis = 0.\n",
    "for line in f:\n",
    "    num = num + 1\n",
    "    context = line.split('\\n')[0]\n",
    "    if ',' in line:\n",
    "        num = 1\n",
    "        temp = context\n",
    "    if num == 2:\n",
    "        if float(context) > ars:\n",
    "            ars = float(context)\n",
    "            cfg_ars = temp\n",
    "    if num == 3:\n",
    "        if float(context) > amis:\n",
    "            amis = float(context)\n",
    "            cfg_amis = temp\n",
    "\n",
    "f.close()\n",
    "\n",
    "print 'the best score for method \\\"2 persons in a chapiter\\\":\\n'\n",
    "print 'configuration for adjusted rand score:\\n'\n",
    "print cfg_ars+'\\n'\n",
    "print 'the score is : '\n",
    "print str(ars)+'\\n'\n",
    "print 'configuration for adjusted mutual info score:\\n'\n",
    "print cfg_amis+'\\n'\n",
    "print 'the score is : '\n",
    "print str(amis)+'\\n'"
   ]
  },
  {
   "cell_type": "markdown",
   "metadata": {},
   "source": [
    "damping: [0.5, 0.95], step: 0.05             default: 0.5<br />\n",
    "max_iter: [2, 199], step: 1                  default: 200<br />\n",
    "convergence_iter: [1, 14], step: 1           default: 15<br />\n",
    "copy: True                                   default: True<br />\n",
    "preference: None                             default: None<br />\n",
    "affinity: ['euclidean', 'precomputed']       default: 'euclidean'<br />\n",
    "verbose: False                               default: False<br />"
   ]
  },
  {
   "cell_type": "code",
   "execution_count": 6,
   "metadata": {
    "collapsed": false
   },
   "outputs": [
    {
     "name": "stdout",
     "output_type": "stream",
     "text": [
      "the best score for method \"2 persons in a chapiter\" + \"at most 2 lines distances between 2 persons\" :\n",
      "\n",
      "configuration for adjusted rand score:\n",
      "\n",
      "damping=0.5, max_iter=7, convergence_iter=2, copy=True, preference=None, affinity=euclidean, verbose=False\n",
      "\n",
      "the score is : \n",
      "0.0457223449585\n",
      "\n",
      "configuration for adjusted mutual info score:\n",
      "\n",
      "damping=0.5, max_iter=6, convergence_iter=2, copy=True, preference=None, affinity=precomputed, verbose=False\n",
      "\n",
      "the score is : \n",
      "0.079711359405\n",
      "\n"
     ]
    }
   ],
   "source": [
    "f = open('./result_evaluation_chapiter_paragraph')\n",
    "\n",
    "num = 0\n",
    "ars = 0.\n",
    "amis = 0.\n",
    "for line in f:\n",
    "    num = num + 1\n",
    "    context = line.split('\\n')[0]\n",
    "    if ',' in line:\n",
    "        num = 1\n",
    "        temp = context\n",
    "    if num == 2:\n",
    "        if float(context) > ars:\n",
    "            ars = float(context)\n",
    "            cfg_ars = temp\n",
    "    if num == 3:\n",
    "        if float(context) > amis:\n",
    "            amis = float(context)\n",
    "            cfg_amis = temp\n",
    "\n",
    "f.close()\n",
    "\n",
    "print 'the best score for method \\\"2 persons in a chapiter\\\" + \\\"at most 2 lines distances between 2 persons\\\" :\\n'\n",
    "print 'configuration for adjusted rand score:\\n'\n",
    "print cfg_ars+'\\n'\n",
    "print 'the score is : '\n",
    "print str(ars)+'\\n'\n",
    "print 'configuration for adjusted mutual info score:\\n'\n",
    "print cfg_amis+'\\n'\n",
    "print 'the score is : '\n",
    "print str(amis)+'\\n'"
   ]
  }
 ],
 "metadata": {
  "kernelspec": {
   "display_name": "Python 2",
   "language": "python",
   "name": "python2"
  },
  "language_info": {
   "codemirror_mode": {
    "name": "ipython",
    "version": 2
   },
   "file_extension": ".py",
   "mimetype": "text/x-python",
   "name": "python",
   "nbconvert_exporter": "python",
   "pygments_lexer": "ipython2",
   "version": "2.7.6"
  }
 },
 "nbformat": 4,
 "nbformat_minor": 0
}
