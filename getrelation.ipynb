{
 "cells": [
  {
   "cell_type": "code",
   "execution_count": 2,
   "metadata": {
    "collapsed": false
   },
   "outputs": [],
   "source": [
    "from nltk.tag.stanford import POSTagger\n",
    "import string\n",
    "english_postagger = POSTagger('./stanford-postagger-2015-04-20/models/english-bidirectional-distsim.tagger', './stanford-postagger-2015-04-20/stanford-postagger.jar')"
   ]
  },
  {
   "cell_type": "code",
   "execution_count": 10,
   "metadata": {
    "collapsed": false
   },
   "outputs": [
    {
     "name": "stdout",
     "output_type": "stream",
     "text": [
      "\n",
      "\n",
      "[[]]\n",
      "13\n",
      "16\n",
      "13\n"
     ]
    },
    {
     "ename": "IndexError",
     "evalue": "list index out of range",
     "output_type": "error",
     "traceback": [
      "\u001b[1;31m---------------------------------------------------------------------------\u001b[0m",
      "\u001b[1;31mIndexError\u001b[0m                                Traceback (most recent call last)",
      "\u001b[1;32m<ipython-input-10-4db5035b1f20>\u001b[0m in \u001b[0;36m<module>\u001b[1;34m()\u001b[0m\n\u001b[0;32m     67\u001b[0m         \u001b[1;32mprint\u001b[0m \u001b[0mend\u001b[0m\u001b[1;33m\u001b[0m\u001b[0m\n\u001b[0;32m     68\u001b[0m         \u001b[1;32mprint\u001b[0m \u001b[0mi\u001b[0m\u001b[1;33m\u001b[0m\u001b[0m\n\u001b[1;32m---> 69\u001b[1;33m         \u001b[0mtemp\u001b[0m \u001b[1;33m=\u001b[0m \u001b[0mtemp\u001b[0m \u001b[1;33m+\u001b[0m \u001b[0mtokens\u001b[0m\u001b[1;33m[\u001b[0m\u001b[1;36m0\u001b[0m\u001b[1;33m]\u001b[0m\u001b[1;33m[\u001b[0m\u001b[0mi\u001b[0m\u001b[1;33m]\u001b[0m\u001b[1;33m[\u001b[0m\u001b[1;36m0\u001b[0m\u001b[1;33m]\u001b[0m\u001b[1;33m\u001b[0m\u001b[0m\n\u001b[0m\u001b[0;32m     70\u001b[0m     \u001b[1;32mif\u001b[0m \u001b[0mtemp\u001b[0m \u001b[1;32min\u001b[0m \u001b[0moriginal\u001b[0m\u001b[1;33m[\u001b[0m\u001b[0morder\u001b[0m\u001b[1;33m]\u001b[0m\u001b[1;33m:\u001b[0m\u001b[1;33m\u001b[0m\u001b[0m\n\u001b[0;32m     71\u001b[0m         \u001b[0mcondition\u001b[0m \u001b[1;33m=\u001b[0m \u001b[0mcondition\u001b[0m \u001b[1;33m+\u001b[0m \u001b[1;34m'c'\u001b[0m\u001b[1;33m\u001b[0m\u001b[0m\n",
      "\u001b[1;31mIndexError\u001b[0m: list index out of range"
     ]
    }
   ],
   "source": [
    "f = open('./text', 'r')\n",
    "f2 = open('./result', 'r')\n",
    "name = []\n",
    "\n",
    "for line in f2:\n",
    "    name.append(line.split('      ')[0])\n",
    "    \n",
    "f2.close()\n",
    "\n",
    "keyword = ['brother']\n",
    "\n",
    "keyphrase = []  #without punctuations\n",
    "original = []    # with punctuations\n",
    "\n",
    "for line in f:\n",
    "    if keyword[0] in line:\n",
    "        original.append(line.replace(' ',''))\n",
    "        temp = \"\"\n",
    "        for l in line:\n",
    "            if l not in string.punctuation:\n",
    "                temp = temp.join(l)\n",
    "            else:\n",
    "                temp = temp.join(' ')\n",
    "        keyphrase.append(temp)\n",
    "\n",
    "order = 0\n",
    "for c in keyphrase:\n",
    "    n = 0\n",
    "    position = 0\n",
    "    tokens = english_postagger.tag(c.split())\n",
    "    #print tokens\n",
    "    for element in tokens[0]:\n",
    "        if keyword[0] in element:\n",
    "            condition = ''         # ab for both behind and forword, abc without puctuations\n",
    "            position = n\n",
    "            #print position\n",
    "            for i in range(position-1,-1,-1):\n",
    "                if 'NN' in tokens[0][i] or 'JJ' in tokens[0][i]:\n",
    "                    pass\n",
    "                elif 'PRP$' in tokens[0][i]:\n",
    "                    condition = condition + 'a'\n",
    "                    prp = tokens[0][i][0]\n",
    "                    start = i\n",
    "                    break\n",
    "                else:\n",
    "                    break\n",
    "            relation = keyword[0]\n",
    "            if position+1 != len(tokens[0]):\n",
    "                for i in range(position+1,len(tokens[0])):\n",
    "                    if 'NNP' not in tokens[0][i]:\n",
    "                        if position+1 != i:\n",
    "                            condition = condition + 'b'\n",
    "                        for j in range(position+1,i):\n",
    "                            name = tokens[0][j][0]\n",
    "                        end = i\n",
    "                        break\n",
    "            else:\n",
    "                end = position\n",
    "\n",
    "        n = n + 1\n",
    "        \n",
    "\n",
    "    temp = ''\n",
    "    print tokens\n",
    "    for i in range(start,end):\n",
    "        print start\n",
    "        print end\n",
    "        print i\n",
    "        temp = temp + tokens[0][i][0]\n",
    "    if temp in original[order]:\n",
    "        condition = condition + 'c'\n",
    "    print condition\n",
    "    if condition == 'abc':\n",
    "        print prp + '   ' + relation + '   ' + name + '\\n'\n",
    "    else:\n",
    "        print 'result doesn\\'t match\\n'\n",
    "        \n",
    "    order = order + 1\n",
    "        \n",
    "    \n",
    "f.close()"
   ]
  }
 ],
 "metadata": {
  "kernelspec": {
   "display_name": "Python 2",
   "language": "python",
   "name": "python2"
  },
  "language_info": {
   "codemirror_mode": {
    "name": "ipython",
    "version": 2
   },
   "file_extension": ".py",
   "mimetype": "text/x-python",
   "name": "python",
   "nbconvert_exporter": "python",
   "pygments_lexer": "ipython2",
   "version": "2.7.6"
  }
 },
 "nbformat": 4,
 "nbformat_minor": 0
}
