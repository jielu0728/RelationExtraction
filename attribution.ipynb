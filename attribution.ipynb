{
 "cells": [
  {
   "cell_type": "code",
   "execution_count": 70,
   "metadata": {
    "collapsed": false
   },
   "outputs": [],
   "source": [
    "import nltk\n",
    "import string\n",
    "import jsonrpclib\n",
    "from simplejson import loads\n",
    "from nltk.corpus import wordnet as wn\n",
    "import re\n",
    "from string import punctuation\n",
    "server = jsonrpclib.Server(\"http://localhost:8080\")\n",
    "\n",
    "r = re.compile(r'[{}]'.format(punctuation))"
   ]
  },
  {
   "cell_type": "markdown",
   "metadata": {},
   "source": [
    "name appears in the paragraph before\n",
    "\n",
    "\n",
    "2 alternant lines \n",
    "\n",
    "if the name appears in the previous or following utterance with a pattern such as ',name,'\n",
    "\n",
    "the object of the speech verb\n"
   ]
  },
  {
   "cell_type": "code",
   "execution_count": 124,
   "metadata": {
    "collapsed": false
   },
   "outputs": [
    {
     "name": "stdout",
     "output_type": "stream",
     "text": [
      "[['    \"I want these letters burned, every one,\" Cersei declared. \"No hint of this must reach my son\\'s ears, or my father\\'s.\"'], [\"    He knew that shadow. As he knew the man who'd cast it.\", '    TYRION', '    The queen was not disposed to wait on Varys. \"Treason is vile enough,\" she declared furiously, \"but this is barefaced naked villainy, and I do not need that mincing eunuch to tell me what must be done with villains.\"', \"    Tyrion took the letters from his sister's hand and compared them side by side. There were two copies, the words exactly alike, though they had been written by different hands.\", '    \"Maester Frenken received the first missive at Castle Stokeworth,\" Grand Maester Pycelle explained. \"The second copy came through Lord Gyles.\"', '    Littlefinger fingered his beard. \"If Stannis bothered with them, it\\'s past certain every other lord in the Seven Kingdoms saw a copy as well.\"'], ['    \"I imagine Father\\'s heard rather more than a hint by now,\" Tyrion said dryly. \"Doubtless Stannis sent a bird to Casterly Rock, and another to Harrenhal. As for burning the letters, to what point? The song is sung, the wine is spilled, the wench is pregnant. And this is not as dire as it seems, in truth.\"', '    Cersei turned on him in green-eyed fury. \"Are you utterly witless? Did you read what he says? The boy Joffrey, he calls him. And he dares to accuse me of incest, adultery, and treason!\"', '    Only because you\\'re guilty. It was astonishing to see how angry Cersei could wax over accusations she knew perfectly well to be true. If we lose the war, she ought to take up mummery, she has a gift for it. Tyrion waited until she was done and said, \"Stannis must have some pretext to justify his rebellion. What did you expect him to write? \\'Joffrey is my brother\\'s trueborn son and heir, but I mean to take his throne for all that\\'?\"', '    \"I will not suffer to be called a whore!\"', '    Why, sister, he never claims Jaime paid you. Tyrion made a show of glancing over the writing again. There had been some niggling phrase... \"Done in the Light of the Lord,\" he read. \"A queer choice of words, that.\"']]\n"
     ]
    }
   ],
   "source": [
    "f = open('annotation_speaker')\n",
    "n = 0\n",
    "instance = []\n",
    "temp = []\n",
    "speaker = []\n",
    "p = 0\n",
    "keyposition = []   #the linenum of the paragraph to be treated\n",
    "for line in f:\n",
    "    if n <= 31080:\n",
    "        if '###############' in line:\n",
    "            keyposition.append(p)\n",
    "            current = [temp.pop()]\n",
    "            previous = temp[:]\n",
    "            temp = []\n",
    "            continue\n",
    "        if 'speaker:\t' in line:\n",
    "            speaker.append(line.split('speaker:\t')[1].split('\\r\\n')[0])\n",
    "            instance.append([current,previous,temp])\n",
    "            temp = []\n",
    "            p = 0\n",
    "            continue\n",
    "        if line.replace(' ','') != '\\r\\n':\n",
    "            temp.append(line.replace('\\r\\n',''))\n",
    "            p = p+1\n",
    "    n = n+1\n",
    "print instance[10]\n",
    "\n",
    "\n",
    "#instance [0,1,2]:\n",
    "#0 : current paragraph (including the object utterance)\n",
    "#1 : 9 previous paragraphs\n",
    "#2 : 5 following paragraphs\n"
   ]
  },
  {
   "cell_type": "code",
   "execution_count": 60,
   "metadata": {
    "collapsed": false,
    "scrolled": true
   },
   "outputs": [
    {
     "name": "stdout",
     "output_type": "stream",
     "text": [
      "[u'[Text=Cortnay CharacterOffsetBegin=8 CharacterOffsetEnd=15 PartOfSpeech=NNP Lemma=Cortnay NamedEntityTag=PERSON', u'Text=Penrose CharacterOffsetBegin=16 CharacterOffsetEnd=23 PartOfSpeech=NNP Lemma=Penrose NamedEntityTag=PERSON', u'Text=ignored CharacterOffsetBegin=24 CharacterOffsetEnd=31 PartOfSpeech=VBD Lemma=ignore NamedEntityTag=O', u'Text=him CharacterOffsetBegin=32 CharacterOffsetEnd=35 PartOfSpeech=PRP Lemma=he NamedEntityTag=O', u'Text=, CharacterOffsetBegin=35 CharacterOffsetEnd=36 PartOfSpeech=, Lemma=, NamedEntityTag=O', u'Text=preferring CharacterOffsetBegin=37 CharacterOffsetEnd=47 PartOfSpeech=VBG Lemma=prefer NamedEntityTag=O', u'Text=to CharacterOffsetBegin=48 CharacterOffsetEnd=50 PartOfSpeech=TO Lemma=to NamedEntityTag=O', u'Text=address CharacterOffsetBegin=51 CharacterOffsetEnd=58 PartOfSpeech=VB Lemma=address NamedEntityTag=O', u'Text=Stannis CharacterOffsetBegin=59 CharacterOffsetEnd=66 PartOfSpeech=NNP Lemma=Stannis NamedEntityTag=O', u'Text=. CharacterOffsetBegin=66 CharacterOffsetEnd=67 PartOfSpeech=. Lemma=. NamedEntityTag=O] (ROOT (S (NP (NNP Ser) (NNP Cortnay) (NNP Penrose)) (VP (VBD ignored) (NP (PRP him)) (, ,) (S (VP (VBG preferring) (S (VP (TO to) (VP (VB address) (NP (NNP Stannis)))))))) (. .)))']\n"
     ]
    }
   ],
   "source": [
    "result = loads(server.parse(instance[0][1][7]))\n",
    "print result['sentences'][0]['parsetree'].split('] [')"
   ]
  },
  {
   "cell_type": "code",
   "execution_count": 109,
   "metadata": {
    "collapsed": false
   },
   "outputs": [
    {
     "data": {
      "text/plain": [
       "[62, 102, 138, 100, 44, 9, 102, 78, 33, 21, 13, 17, 61, 6, 64]"
      ]
     },
     "execution_count": 109,
     "metadata": {},
     "output_type": "execute_result"
    }
   ],
   "source": [
    "def countwordperline(instance,num_instance):\n",
    "    numlist = []\n",
    "    for i in range(3):\n",
    "        for j in range(len(instance[i])):\n",
    "            new_strs = r.sub(' ',instance[i][j])\n",
    "            num = len(new_strs.split())\n",
    "            numlist.append(num)\n",
    "    numlist.insert(keyposition[num_instance]-1, numlist.pop(0))\n",
    "    return numlist\n",
    "            \n",
    "countwordperline(instance[0],0)"
   ]
  },
  {
   "cell_type": "code",
   "execution_count": 168,
   "metadata": {
    "collapsed": false
   },
   "outputs": [
    {
     "data": {
      "text/plain": [
       "676"
      ]
     },
     "execution_count": 168,
     "metadata": {},
     "output_type": "execute_result"
    }
   ],
   "source": [
    "def convertoffset(numlist,linenum,offset,sentence):\n",
    "    temp = sentence[0:offset]\n",
    "    new_strs = r.sub(' ',temp)\n",
    "    num = len(new_strs.split())\n",
    "    pos = 0\n",
    "    for i in range(linenum-1):\n",
    "        pos = pos + numlist[i]\n",
    "    return pos+num+1\n",
    "\n",
    "convertoffset(countwordperline(instance[0],0),keyposition[0],33,instance[0][0][0])"
   ]
  },
  {
   "cell_type": "code",
   "execution_count": 179,
   "metadata": {
    "collapsed": false,
    "scrolled": true
   },
   "outputs": [
    {
     "name": "stdout",
     "output_type": "stream",
     "text": [
      "progress : 0.0%\n",
      "\n",
      "[[[[[u'lady', 33, 676], [u'Ser', 40, 677], [u'Cortnay', 44, 678], [u'gods', 82, 685], [u'king', 104, 689]]], [[[u'Davos', 74, 14], [u'king', 306, 58]], [[u'man', 10, 64], [u'Davos', 71, 76], [u'Seaworth', 77, 77], [u'lords', 101, 81], [u'beasts', 292, 111], [u'Davos', 392, 128], [u'king', 403, 130]], [[u'Davos', 25, 169], [u'king', 219, 210], [u'king', 242, 214], [u'Davos', 267, 218], [u'son', 290, 222], [u'Devan', 294, 223], [u'squires', 318, 228], [u'Stannis', 336, 231], [u'Baratheon', 344, 232], [u'Dragonstone', 495, 260], [u'king', 523, 264], [u'Lord', 559, 270], [u'Renly', 564, 271], [u'boy', 626, 281], [u'father', 650, 286], [u'Maester', 659, 287], [u'Lady', 705, 296], [u'Melisandre', 710, 297]], [[u'son', 203, 343], [u'boy', 225, 348], [u'father', 292, 361], [u'Lord', 359, 373], [u'king', 402, 383], [u'squire', 409, 385], [u'king', 483, 400], [u'god', 490, 402]], [[u'Stannis', 97, 421], [u'Ser', 142, 429], [u'Cortnay', 146, 430], [u'standard-bearer', 162, 433]], [[u'lord', 8, 448]], [[u'king', 32, 462], [u'Grace', 52, 466], [u'Lord', 70, 468], [u'Florent', 75, 469], [u'fox', 95, 473], [u'Lord', 234, 497], [u'Brightwater', 242, 499], [u'Renly', 281, 506], [u'Stannis', 314, 512], [u'gods', 357, 520], [u'Lord', 378, 525], [u'queen', 414, 532], [u'Dragonstone', 423, 534], [u'uncle', 450, 538], [u'Axell', 456, 539], [u'queen', 471, 542], [u'men', 479, 544], [u'Alester', 530, 553], [u'Florent', 538, 554]], [[u'Cortnay', 8, 559], [u'Penrose', 16, 560], [u'Stannis', 59, 566], [u'lords', 106, 574], [u'Estermont', 112, 575], [u'Errol', 123, 576], [u'Varner', 134, 578], [u'Jon', 146, 580], [u'Fossoways', 169, 585], [u'Ser', 183, 587], [u'Bryan', 187, 588], [u'Caron', 210, 593], [u'Ser', 220, 595], [u'Guyard', 224, 596], [u'King', 234, 598], [u'Renly', 239, 599], [u'Rainbow', 247, 601], [u'Guard', 255, 602], [u'Lord', 282, 606], [u'Alester', 287, 607], [u'Florent', 295, 608], [u'Brightwater', 306, 610], [u'Onion', 344, 617], [u'Knight', 350, 618], [u'Ser', 386, 626], [u'Davos', 390, 627], [u'lady', 422, 635]], [[u'Melisandre', 16, 639], [u'king', 154, 663], [u'Lord', 168, 666]]], [[[u'king', 27, 695], [u'god', 46, 699], [u'Lord', 62, 701], [u'Florent', 67, 702]], [[u'lord', 41, 710]], [[u'Stannis', 47, 729]], [[u'Ser', 27, 785], [u'Cortnay', 31, 786]], [[u'Stannis', 29, 791], [u'lords', 100, 804], [u'men', 129, 810], [u'man', 275, 839]]]]]\n"
     ]
    }
   ],
   "source": [
    "def ner(instance):\n",
    "    entities = []\n",
    "    n = 0\n",
    "    for obj in instance:\n",
    "        numlist = countwordperline(obj,n)\n",
    "        print 'progress : '+str(float(n)/float(len(instance))*100)+'%\\n'\n",
    "        current = [[]]\n",
    "        temp = []\n",
    "        for z in range(len(loads(server.parse(obj[0][0]))['sentences'])):\n",
    "            temp = temp + loads(server.parse(obj[0][0]))['sentences'][z]['parsetree'].split('] [')\n",
    "        for frag in temp:\n",
    "            if 'PartOfSpeech=NNP' in frag:\n",
    "                text = frag.split('Text=')[1].split(' ')[0]\n",
    "                position = frag.split('CharacterOffsetBegin=')[1].split(' ')[0]\n",
    "                pos = convertoffset(numlist,keyposition[n],int(position),obj[0][0])\n",
    "                current[0].append([text,int(position),pos])\n",
    "            elif 'PartOfSpeech=N' in frag:\n",
    "                text = frag.split('Text=')[1].split(' ')[0]\n",
    "                position = frag.split('CharacterOffsetBegin=')[1].split(' ')[0]\n",
    "                pos = convertoffset(numlist,keyposition[n],int(position),obj[0][0])\n",
    "                lex = []\n",
    "                for synset in wn.synsets(text):\n",
    "                    lex.append(synset.lexname())\n",
    "                if lex == []:\n",
    "                    continue\n",
    "                elif float(lex.count('noun.person'))/float(len(lex)) >= 0.4:\n",
    "                    current[0].append([text,int(position),pos])\n",
    "        previous = []\n",
    "        for i in range(len(obj[1])):\n",
    "            previous.append([])\n",
    "            temp = []\n",
    "            for x in range(len(loads(server.parse(obj[1][i]))['sentences'])):\n",
    "                try:\n",
    "                    temp = temp + loads(server.parse(obj[1][i]))['sentences'][x]['parsetree'].split('] [')\n",
    "                except IndexError:\n",
    "                    continue\n",
    "            for frag in temp:\n",
    "                if 'PartOfSpeech=NNP' in frag:\n",
    "                    text = frag.split('Text=')[1].split(' ')[0]\n",
    "                    position = frag.split('CharacterOffsetBegin=')[1].split(' ')[0]\n",
    "                    pos = convertoffset(numlist,i+1,int(position),obj[1][i])\n",
    "                    previous[i].append([text,int(position),pos])\n",
    "                elif 'PartOfSpeech=N' in frag:\n",
    "                    text = frag.split('Text=')[1].split(' ')[0]\n",
    "                    position = frag.split('CharacterOffsetBegin=')[1].split(' ')[0]\n",
    "                    pos = convertoffset(numlist,i+1,int(position),obj[1][i])\n",
    "                    lex = []\n",
    "                    for synset in wn.synsets(text):\n",
    "                        lex.append(synset.lexname())\n",
    "                    if lex == []:\n",
    "                        continue\n",
    "                    elif float(lex.count('noun.person'))/float(len(lex)) >= 0.4:\n",
    "                        previous[i].append([text,int(position),pos])\n",
    "        following = []\n",
    "        for j in range(len(obj[2])):\n",
    "            following.append([])\n",
    "            temp = []\n",
    "            for y in range(len(loads(server.parse(obj[2][j]))['sentences'])):\n",
    "                try:\n",
    "                    temp = temp + loads(server.parse(obj[2][j]))['sentences'][y]['parsetree'].split('] [')\n",
    "                except IndexError:\n",
    "                    continue\n",
    "            for frag in temp:\n",
    "                if 'PartOfSpeech=NNP' in frag:\n",
    "                    text = frag.split('Text=')[1].split(' ')[0]\n",
    "                    position = frag.split('CharacterOffsetBegin=')[1].split(' ')[0]\n",
    "                    pos = convertoffset(numlist,keyposition[n]+j+1,int(position),obj[2][j])\n",
    "                    following[j].append([text,int(position),pos])\n",
    "                elif 'PartOfSpeech=N' in frag:\n",
    "                    text = frag.split('Text=')[1].split(' ')[0]\n",
    "                    position = frag.split('CharacterOffsetBegin=')[1].split(' ')[0]\n",
    "                    pos = convertoffset(numlist,keyposition[n]+j+1,int(position),obj[2][j])\n",
    "                    lex = []\n",
    "                    for synset in wn.synsets(text):\n",
    "                        lex.append(synset.lexname())\n",
    "                    if lex == []:\n",
    "                        continue\n",
    "                    if float(lex.count('noun.person'))/float(len(lex)) >= 0.4:\n",
    "                        following[j].append([text,int(position),pos])\n",
    "        entities.append([current,previous,following])\n",
    "        n = n +1\n",
    "        return entities\n",
    "\n",
    "entities = ner(instance)\n",
    "entities_new = entities[:]\n",
    "print entities\n",
    "\n",
    "#entities [name, offset in the paragraph, word position in the instance]"
   ]
  },
  {
   "cell_type": "code",
   "execution_count": 180,
   "metadata": {
    "collapsed": false
   },
   "outputs": [],
   "source": [
    "#combine contiguous name entities and separate those within and outside quotation marks\n",
    "def contiguous(instance,namelist,ni,cls,nl):\n",
    "    i = 0\n",
    "    t = len(namelist)-1\n",
    "    newlist = {}\n",
    "    newlist['in'] = []\n",
    "    newlist['out'] = []\n",
    "    while i < t:\n",
    "        if namelist[i+1][1]-namelist[i][1] == len(namelist[i][0])+1 and instance[ni][cls][nl][namelist[i][1]+len(namelist[i][0])] == ' ':\n",
    "            namelist[i][0] = namelist[i][0]+' '+namelist[i+1][0]\n",
    "            namelist.pop(i+1)\n",
    "            t = t - 1\n",
    "            i = i - 1\n",
    "        i = i + 1\n",
    "    for obj in namelist:\n",
    "        if instance[ni][cls][nl][0:obj[1]].count('\"')%2 == 1:\n",
    "            newlist['in'].append(obj)\n",
    "        else:\n",
    "            newlist['out'].append(obj)\n",
    "    return newlist\n",
    "\n",
    "for j in range(3):\n",
    "    for k in range(len(instance[0][j])):\n",
    "        entities_new[0][j][k] = contiguous(instance,entities[0][j][k],0,j,k)"
   ]
  },
  {
   "cell_type": "code",
   "execution_count": 181,
   "metadata": {
    "collapsed": false,
    "scrolled": true
   },
   "outputs": [
    {
     "name": "stdout",
     "output_type": "stream",
     "text": [
      "{'out': [[u'Ser Cortnay', 40, 677]], 'in': [[u'lady', 33, 676], [u'gods', 82, 685], [u'king', 104, 689]]}\n",
      "    \"I wish you well of them, my lady,\" Ser Cortnay answered, \"but I bow to other gods, and a different king.\"\n"
     ]
    }
   ],
   "source": [
    "print entities_new[0][0][0]\n",
    "print instance[0][0][0]"
   ]
  },
  {
   "cell_type": "code",
   "execution_count": 182,
   "metadata": {
    "collapsed": false,
    "scrolled": true
   },
   "outputs": [
    {
     "name": "stdout",
     "output_type": "stream",
     "text": [
      "[[[{'out': [[u'Ser Cortnay', 40, 677]], 'in': [[u'lady', 33, 676], [u'gods', 82, 685], [u'king', 104, 689]]}], [{'out': [[u'Davos', 74, 14], [u'king', 306, 58]], 'in': []}, {'out': [[u'man', 10, 64], [u'Davos Seaworth', 71, 76], [u'lords', 101, 81], [u'beasts', 292, 111], [u'Davos', 392, 128], [u'king', 403, 130]], 'in': []}, {'out': [[u'Davos', 25, 169], [u'king', 219, 210], [u'king', 242, 214], [u'Davos', 267, 218], [u'son Devan', 290, 222], [u'squires', 318, 228], [u'Stannis Baratheon', 336, 231], [u'Dragonstone', 495, 260], [u'king', 523, 264], [u'boy', 626, 281], [u'father', 650, 286]], 'in': [[u'Lord Renly', 559, 270], [u'Maester', 659, 287], [u'Lady Melisandre', 705, 296]]}, {'out': [[u'son', 203, 343], [u'boy', 225, 348], [u'father', 292, 361], [u'Lord', 359, 373], [u'king', 402, 383], [u'squire', 409, 385], [u'king', 483, 400], [u'god', 490, 402]], 'in': []}, {'out': [[u'Stannis', 97, 421], [u'Ser Cortnay', 142, 429], [u'standard-bearer', 162, 433]], 'in': []}, {'out': [], 'in': [[u'lord', 8, 448]]}, {'out': [[u'Lord Florent', 70, 468], [u'fox', 95, 473], [u'Lord', 234, 497], [u'Brightwater', 242, 499], [u'Renly', 281, 506], [u'Stannis', 314, 512], [u'gods', 357, 520], [u'Lord', 378, 525], [u'queen', 414, 532], [u'Dragonstone', 423, 534], [u'uncle Axell', 450, 538], [u'queen', 471, 542], [u'men', 479, 544], [u'Alester Florent', 530, 553]], 'in': [[u'king', 32, 462], [u'Grace', 52, 466]]}, {'out': [[u'Cortnay Penrose', 8, 559], [u'Stannis', 59, 566]], 'in': [[u'lords Estermont', 106, 574], [u'Errol', 123, 576], [u'Varner', 134, 578], [u'Jon', 146, 580], [u'Fossoways', 169, 585], [u'Ser Bryan', 183, 587], [u'Caron', 210, 593], [u'Ser Guyard', 220, 595], [u'King Renly', 234, 598], [u'Rainbow Guard', 247, 601], [u'Lord Alester Florent', 282, 606], [u'Brightwater', 306, 610], [u'Onion Knight', 344, 617], [u'Ser Davos', 386, 626], [u'lady', 422, 635]]}, {'out': [], 'in': [[u'Melisandre', 16, 639], [u'king', 154, 663], [u'Lord', 168, 666]]}], [{'out': [[u'Lord Florent', 62, 701]], 'in': [[u'king', 27, 695], [u'god', 46, 699]]}, {'out': [], 'in': [[u'lord', 41, 710]]}, {'out': [[u'Stannis', 47, 729]], 'in': []}, {'out': [[u'Ser Cortnay', 27, 785]], 'in': []}, {'out': [[u'Stannis', 29, 791]], 'in': [[u'lords', 100, 804], [u'men', 129, 810], [u'man', 275, 839]]}]]]\n"
     ]
    }
   ],
   "source": [
    "print entities_new"
   ]
  },
  {
   "cell_type": "code",
   "execution_count": 183,
   "metadata": {
    "collapsed": false
   },
   "outputs": [
    {
     "name": "stdout",
     "output_type": "stream",
     "text": [
      "[[[[[u'Ser Cortnay', 40, 677]]], [[[u'Davos', 74, 14], [u'king', 306, 58]], [[u'man', 10, 64], [u'Davos Seaworth', 71, 76], [u'lords', 101, 81], [u'beasts', 292, 111], [u'Davos', 392, 128], [u'king', 403, 130]], [[u'Davos', 25, 169], [u'king', 219, 210], [u'king', 242, 214], [u'Davos', 267, 218], [u'son Devan', 290, 222], [u'squires', 318, 228], [u'Stannis Baratheon', 336, 231], [u'Dragonstone', 495, 260], [u'king', 523, 264], [u'boy', 626, 281], [u'father', 650, 286]], [[u'son', 203, 343], [u'boy', 225, 348], [u'father', 292, 361], [u'Lord', 359, 373], [u'king', 402, 383], [u'squire', 409, 385], [u'king', 483, 400], [u'god', 490, 402]], [[u'Stannis', 97, 421], [u'Ser Cortnay', 142, 429], [u'standard-bearer', 162, 433]], [], [[u'Lord Florent', 70, 468], [u'fox', 95, 473], [u'Lord', 234, 497], [u'Brightwater', 242, 499], [u'Renly', 281, 506], [u'Stannis', 314, 512], [u'gods', 357, 520], [u'Lord', 378, 525], [u'queen', 414, 532], [u'Dragonstone', 423, 534], [u'uncle Axell', 450, 538], [u'queen', 471, 542], [u'men', 479, 544], [u'Alester Florent', 530, 553]], [[u'Cortnay Penrose', 8, 559], [u'Stannis', 59, 566]], []], [[[u'Lord Florent', 62, 701]], [], [[u'Stannis', 47, 729]], [[u'Ser Cortnay', 27, 785]], [[u'Stannis', 29, 791]]]]]\n"
     ]
    }
   ],
   "source": [
    "entities_out = []\n",
    "for i in range(len(entities_new)):\n",
    "    entities_out.append([])\n",
    "    for j in range(3):\n",
    "        entities_out[i].append([])\n",
    "        for k in range(len(entities_new[i][j])):\n",
    "            entities_out[i][j].append([])\n",
    "            entities_out[i][j][k] = entities_new[i][j][k]['out']\n",
    "print entities_out"
   ]
  },
  {
   "cell_type": "code",
   "execution_count": 195,
   "metadata": {
    "collapsed": false,
    "scrolled": true
   },
   "outputs": [
    {
     "name": "stdout",
     "output_type": "stream",
     "text": [
      "[[0, 0], [24, 47], [52, 48], [103, 46], [108, 49], [110, 45], [114, 50], [116, 44], [125, 43], [127, 42], [131, 41], [135, 40], [137, 39], [144, 38], [149, 37], [157, 36], [163, 35], [170, 34], [172, 33], [196, 32], [201, 31], [236, 30], [240, 29], [248, 28], [267, 27], [269, 26], [284, 25], [286, 24], [296, 23], [308, 22], [321, 21], [326, 20], [383, 19], [388, 18], [405, 17], [409, 16], [438, 15], [441, 14], [447, 13], [451, 12], [455, 11], [459, 10], [500, 9], [539, 8], [541, 7], [558, 6], [588, 5], [593, 4], [605, 3], [611, 2], [655, 1]]\n"
     ]
    }
   ],
   "source": [
    "def distance(entities,num_instance):\n",
    "    sentence = instance[num_instance][0][0]\n",
    "    if sentence.count('\"') == 1:\n",
    "        offset = sentence.index('\"')\n",
    "        position = [convertoffset(countwordperline(instance[num_instance],num_instance),keyposition[num_instance],offset,instance[num_instance][0][0])]\n",
    "    else:\n",
    "        offset = []\n",
    "        p = 0\n",
    "        for c in sentence:\n",
    "            if c == '\"':\n",
    "                offset.append(p)\n",
    "            p = p+1\n",
    "        position = []\n",
    "        for i in range(2):\n",
    "            position.append(convertoffset(countwordperline(instance[num_instance],num_instance),keyposition[num_instance],offset[i],instance[num_instance][0][0]))\n",
    "    dist = []\n",
    "    for i in range(3):\n",
    "        for j in range(len(entities[i])):\n",
    "            for k in range(len(entities[i][j])):\n",
    "                pos = entities[i][j][k][2]\n",
    "                if len(position) == 1:\n",
    "                    dist.append([abs(pos-position[0])])\n",
    "                else:\n",
    "                    if pos <= position[0]:\n",
    "                        dist.append([position[0]-pos])\n",
    "                    elif pos >= position[1]:\n",
    "                        dist.append([pos-position[1]])\n",
    "    return dist\n",
    "                \n",
    "feature = distance(entities_out[0],0)\n",
    "order = feature[:]\n",
    "for i in range(len(feature)):\n",
    "    order[i] = [order[i][0],i]\n",
    "order.sort()\n",
    "print order"
   ]
  },
  {
   "cell_type": "code",
   "execution_count": 196,
   "metadata": {
    "collapsed": false
   },
   "outputs": [
    {
     "name": "stdout",
     "output_type": "stream",
     "text": [
      "[[0, 1], [655, 51], [611, 50], [605, 49], [593, 48], [588, 47], [558, 46], [541, 45], [539, 44], [500, 43], [459, 42], [455, 41], [451, 40], [447, 39], [441, 38], [438, 37], [409, 36], [405, 35], [388, 34], [383, 33], [326, 32], [321, 31], [308, 30], [296, 29], [286, 28], [284, 27], [269, 26], [267, 25], [248, 24], [240, 23], [236, 22], [201, 21], [196, 20], [172, 19], [170, 18], [163, 17], [157, 16], [149, 15], [144, 14], [137, 13], [135, 12], [131, 11], [127, 10], [125, 9], [116, 8], [110, 6], [103, 4], [24, 2], [52, 3], [108, 5], [114, 7]]\n"
     ]
    }
   ],
   "source": [
    "for i in range(len(order)):\n",
    "    feature[order[i][1]].append(i+1)\n",
    "print feature"
   ]
  },
  {
   "cell_type": "code",
   "execution_count": 188,
   "metadata": {
    "collapsed": true
   },
   "outputs": [],
   "source": [
    "#feature [distance from the quote, the ordinal position]"
   ]
  }
 ],
 "metadata": {
  "kernelspec": {
   "display_name": "Python 2",
   "language": "python",
   "name": "python2"
  },
  "language_info": {
   "codemirror_mode": {
    "name": "ipython",
    "version": 2
   },
   "file_extension": ".py",
   "mimetype": "text/x-python",
   "name": "python",
   "nbconvert_exporter": "python",
   "pygments_lexer": "ipython2",
   "version": "2.7.6"
  }
 },
 "nbformat": 4,
 "nbformat_minor": 0
}
