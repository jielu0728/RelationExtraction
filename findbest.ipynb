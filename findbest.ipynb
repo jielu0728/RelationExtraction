{
 "cells": [
  {
   "cell_type": "code",
   "execution_count": 10,
   "metadata": {
    "collapsed": false
   },
   "outputs": [
    {
     "name": "stdout",
     "output_type": "stream",
     "text": [
      "the best score for method \"at most 2 lines distances between 2 persons\":\n",
      "\n",
      "configuration for adjusted rand score:\n",
      "\n",
      "damping=0.55, max_iter=10, convergence_iter=4, copy=True, preference=None, affinity=euclidean, verbose=False\n",
      "\n",
      "the score is : \n",
      "0.041284886311\n",
      "\n",
      "configuration for adjusted mutual info score:\n",
      "\n",
      "damping=0.5, max_iter=5, convergence_iter=2, copy=True, preference=None, affinity=precomputed, verbose=False\n",
      "\n",
      "the score is : \n",
      "0.0720437362677\n",
      "\n"
     ]
    }
   ],
   "source": [
    "f = open('./result_evaluation')\n",
    "\n",
    "num = 0\n",
    "ars = 0.\n",
    "amis = 0.\n",
    "for line in f:\n",
    "    num = num + 1\n",
    "    context = line.split('\\n')[0]\n",
    "    if ',' in line:\n",
    "        num = 1\n",
    "        temp = context\n",
    "    if num == 2:\n",
    "        if float(context) > ars:\n",
    "            ars = float(context)\n",
    "            cfg_ars = temp\n",
    "    if num == 3:\n",
    "        if float(context) > amis:\n",
    "            amis = float(context)\n",
    "            cfg_amis = temp\n",
    "\n",
    "f.close()\n",
    "\n",
    "print 'the best score for method \\\"at most 2 lines distances between 2 persons\\\":\\n'\n",
    "print 'configuration for adjusted rand score:\\n'\n",
    "print cfg_ars+'\\n'\n",
    "print 'the score is : '\n",
    "print str(ars)+'\\n'\n",
    "print 'configuration for adjusted mutual info score:\\n'\n",
    "print cfg_amis+'\\n'\n",
    "print 'the score is : '\n",
    "print str(amis)+'\\n'"
   ]
  },
  {
   "cell_type": "markdown",
   "metadata": {},
   "source": [
    "OK the I will show the range of each parameter for affinity propagation (the only variable in this test):<br />\n",
    "AffinityPropagation(damping, max_iter, convergence_iter, copy, preference, affinity, verbose)<br />\n",
    "\n",
    "damping: [0.5, 0.95], step: 0.05             default: 0.5<br />\n",
    "max_iter: [2, 399], step: 1                  default: 200<br />\n",
    "convergence_iter: [1, 29], step: 1           default: 15<br />\n",
    "copy: True                                   default: True<br />\n",
    "preference: None                             default: None<br />\n",
    "affinity: ['euclidean', 'precomputed']       default: 'euclidean'<br />\n",
    "verbose: False                               default: False<br />\n",
    "\n",
    "I studied the result and I found that there is no need to set the ranges of max_iter and convergence_iter so big, as the value converges much earlier than the maximum, so I think the default values are sufficient as to accelerate the test."
   ]
  },
  {
   "cell_type": "code",
   "execution_count": 9,
   "metadata": {
    "collapsed": false
   },
   "outputs": [
    {
     "name": "stdout",
     "output_type": "stream",
     "text": [
      "the best score for method \"2 persons in a chapiter\":\n",
      "\n",
      "configuration for adjusted rand score:\n",
      "\n",
      "damping=0.5, max_iter=6, convergence_iter=3, copy=True, preference=None, affinity=euclidean, verbose=False\n",
      "\n",
      "the score is : \n",
      "0.0714047192154\n",
      "\n",
      "configuration for adjusted mutual info score:\n",
      "\n",
      "damping=0.55, max_iter=19, convergence_iter=5, copy=True, preference=None, affinity=precomputed, verbose=False\n",
      "\n",
      "the score is : \n",
      "0.106716090123\n",
      "\n"
     ]
    }
   ],
   "source": [
    "f = open('./result_evaluation_chapiter')\n",
    "\n",
    "num = 0\n",
    "ars = 0.\n",
    "amis = 0.\n",
    "for line in f:\n",
    "    num = num + 1\n",
    "    context = line.split('\\n')[0]\n",
    "    if ',' in line:\n",
    "        num = 1\n",
    "        temp = context\n",
    "    if num == 2:\n",
    "        if float(context) > ars:\n",
    "            ars = float(context)\n",
    "            cfg_ars = temp\n",
    "    if num == 3:\n",
    "        if float(context) > amis:\n",
    "            amis = float(context)\n",
    "            cfg_amis = temp\n",
    "\n",
    "f.close()\n",
    "\n",
    "print 'the best score for method \\\"2 persons in a chapiter\\\":\\n'\n",
    "print 'configuration for adjusted rand score:\\n'\n",
    "print cfg_ars+'\\n'\n",
    "print 'the score is : '\n",
    "print str(ars)+'\\n'\n",
    "print 'configuration for adjusted mutual info score:\\n'\n",
    "print cfg_amis+'\\n'\n",
    "print 'the score is : '\n",
    "print str(amis)+'\\n'"
   ]
  },
  {
   "cell_type": "markdown",
   "metadata": {},
   "source": [
    "damping: [0.5, 0.95], step: 0.05             default: 0.5<br />\n",
    "max_iter: [2, 199], step: 1                  default: 200<br />\n",
    "convergence_iter: [1, 14], step: 1           default: 15<br />\n",
    "copy: True                                   default: True<br />\n",
    "preference: None                             default: None<br />\n",
    "affinity: ['euclidean', 'precomputed']       default: 'euclidean'<br />\n",
    "verbose: False                               default: False<br />"
   ]
  },
  {
   "cell_type": "code",
   "execution_count": 8,
   "metadata": {
    "collapsed": false
   },
   "outputs": [
    {
     "name": "stdout",
     "output_type": "stream",
     "text": [
      "the best score for method \"2 persons in a chapiter\" + \"at most 2 lines distances between 2 persons\" :\n",
      "\n",
      "configuration for adjusted rand score:\n",
      "\n",
      "damping=0.55, max_iter=20, convergence_iter=10, copy=True, preference=None, affinity=euclidean, verbose=False\n",
      "\n",
      "the score is : \n",
      "0.0590462218855\n",
      "\n",
      "configuration for adjusted mutual info score:\n",
      "\n",
      "damping=0.55, max_iter=20, convergence_iter=10, copy=True, preference=None, affinity=euclidean, verbose=False\n",
      "\n",
      "the score is : \n",
      "0.084549761148\n",
      "\n"
     ]
    }
   ],
   "source": [
    "f = open('./result_evaluation_chapiter_paragraph')\n",
    "\n",
    "num = 0\n",
    "ars = 0.\n",
    "amis = 0.\n",
    "for line in f:\n",
    "    num = num + 1\n",
    "    context = line.split('\\n')[0]\n",
    "    if ',' in line:\n",
    "        num = 1\n",
    "        temp = context\n",
    "    if num == 2:\n",
    "        if float(context) > ars:\n",
    "            ars = float(context)\n",
    "            cfg_ars = temp\n",
    "    if num == 3:\n",
    "        if float(context) > amis:\n",
    "            amis = float(context)\n",
    "            cfg_amis = temp\n",
    "\n",
    "f.close()\n",
    "\n",
    "print 'the best score for method \\\"2 persons in a chapiter\\\" + \\\"at most 2 lines distances between 2 persons\\\" :\\n'\n",
    "print 'configuration for adjusted rand score:\\n'\n",
    "print cfg_ars+'\\n'\n",
    "print 'the score is : '\n",
    "print str(ars)+'\\n'\n",
    "print 'configuration for adjusted mutual info score:\\n'\n",
    "print cfg_amis+'\\n'\n",
    "print 'the score is : '\n",
    "print str(amis)+'\\n'"
   ]
  },
  {
   "cell_type": "code",
   "execution_count": 7,
   "metadata": {
    "collapsed": false
   },
   "outputs": [
    {
     "name": "stdout",
     "output_type": "stream",
     "text": [
      "the best score for method \"at most 2 lines distances between 2 persons\" with DBSCAN :\n",
      "\n",
      "configuration for adjusted rand score:\n",
      "\n",
      "eps=0.8, min_samples=1, algorithm=auto\n",
      "\n",
      "the score is : \n",
      "0.0864194607832\n",
      "\n",
      "configuration for adjusted mutual info score:\n",
      "\n",
      "eps=0.8, min_samples=1, algorithm=ball_tree\n",
      "\n",
      "the score is : \n",
      "0.147913993341\n",
      "\n"
     ]
    }
   ],
   "source": [
    "f = open('./result_evaluation_DBSCAN')\n",
    "\n",
    "num = 0\n",
    "ars = 0.\n",
    "amis = 0.\n",
    "for line in f:\n",
    "    num = num + 1\n",
    "    context = line.split('\\n')[0]\n",
    "    if ',' in line:\n",
    "        num = 1\n",
    "        temp = context\n",
    "    if num == 2:\n",
    "        if float(context) > ars:\n",
    "            ars = float(context)\n",
    "            cfg_ars = temp\n",
    "    if num == 3:\n",
    "        if float(context) > amis:\n",
    "            amis = float(context)\n",
    "            cfg_amis = temp\n",
    "\n",
    "f.close()\n",
    "\n",
    "print 'the best score for method \\\"at most 2 lines distances between 2 persons\\\" with DBSCAN :\\n'\n",
    "print 'configuration for adjusted rand score:\\n'\n",
    "print cfg_ars+'\\n'\n",
    "print 'the score is : '\n",
    "print str(ars)+'\\n'\n",
    "print 'configuration for adjusted mutual info score:\\n'\n",
    "print cfg_amis+'\\n'\n",
    "print 'the score is : '\n",
    "print str(amis)+'\\n'"
   ]
  },
  {
   "cell_type": "markdown",
   "metadata": {},
   "source": [
    "eps: [0.05, 2], step: 0.05, default: 2<br />\n",
    "min_samples: [1, 10], step: 1, default: 5<br />\n",
    "algorithme: ['auto', 'ball_tree', 'kd_tree', 'brute'], default: 'auto'"
   ]
  },
  {
   "cell_type": "code",
   "execution_count": 6,
   "metadata": {
    "collapsed": false
   },
   "outputs": [
    {
     "name": "stdout",
     "output_type": "stream",
     "text": [
      "the best score for method \"2 persons in a chapiter\" with DBSCAN :\n",
      "\n",
      "configuration for adjusted rand score:\n",
      "\n",
      "eps=0.8, min_samples=1, algorithm=auto\n",
      "\n",
      "the score is : \n",
      "0.0842762267864\n",
      "\n",
      "configuration for adjusted mutual info score:\n",
      "\n",
      "eps=0.8, min_samples=1, algorithm=ball_tree\n",
      "\n",
      "the score is : \n",
      "0.109739383568\n",
      "\n"
     ]
    }
   ],
   "source": [
    "f = open('./result_evaluation_DBSCAN_chapiter')\n",
    "\n",
    "num = 0\n",
    "ars = 0.\n",
    "amis = 0.\n",
    "for line in f:\n",
    "    num = num + 1\n",
    "    context = line.split('\\n')[0]\n",
    "    if ',' in line:\n",
    "        num = 1\n",
    "        temp = context\n",
    "    if num == 2:\n",
    "        if float(context) > ars:\n",
    "            ars = float(context)\n",
    "            cfg_ars = temp\n",
    "    if num == 3:\n",
    "        if float(context) > amis:\n",
    "            amis = float(context)\n",
    "            cfg_amis = temp\n",
    "\n",
    "f.close()\n",
    "\n",
    "print 'the best score for method \\\"2 persons in a chapiter\\\" with DBSCAN :\\n'\n",
    "print 'configuration for adjusted rand score:\\n'\n",
    "print cfg_ars+'\\n'\n",
    "print 'the score is : '\n",
    "print str(ars)+'\\n'\n",
    "print 'configuration for adjusted mutual info score:\\n'\n",
    "print cfg_amis+'\\n'\n",
    "print 'the score is : '\n",
    "print str(amis)+'\\n'"
   ]
  },
  {
   "cell_type": "code",
   "execution_count": 5,
   "metadata": {
    "collapsed": false
   },
   "outputs": [
    {
     "name": "stdout",
     "output_type": "stream",
     "text": [
      "the best score for method \"2 persons in a chapiter\" + \"at most 2 lines distances between 2 persons\" with DBSCAN :\n",
      "\n",
      "configuration for adjusted rand score:\n",
      "\n",
      "eps=0.8, min_samples=1, algorithm=auto\n",
      "\n",
      "the score is : \n",
      "0.0652873005279\n",
      "\n",
      "configuration for adjusted mutual info score:\n",
      "\n",
      "eps=0.8, min_samples=1, algorithm=auto\n",
      "\n",
      "the score is : \n",
      "0.115176781794\n",
      "\n"
     ]
    }
   ],
   "source": [
    "f = open('./result_evaluation_DBSCAN_chapiter_paragraph')\n",
    "\n",
    "num = 0\n",
    "ars = 0.\n",
    "amis = 0.\n",
    "for line in f:\n",
    "    num = num + 1\n",
    "    context = line.split('\\n')[0]\n",
    "    if ',' in line:\n",
    "        num = 1\n",
    "        temp = context\n",
    "    if num == 2:\n",
    "        if float(context) > ars:\n",
    "            ars = float(context)\n",
    "            cfg_ars = temp\n",
    "    if num == 3:\n",
    "        if float(context) > amis:\n",
    "            amis = float(context)\n",
    "            cfg_amis = temp\n",
    "\n",
    "f.close()\n",
    "\n",
    "print 'the best score for method \\\"2 persons in a chapiter\\\" + \\\"at most 2 lines distances between 2 persons\\\" with DBSCAN :\\n'\n",
    "print 'configuration for adjusted rand score:\\n'\n",
    "print cfg_ars+'\\n'\n",
    "print 'the score is : '\n",
    "print str(ars)+'\\n'\n",
    "print 'configuration for adjusted mutual info score:\\n'\n",
    "print cfg_amis+'\\n'\n",
    "print 'the score is : '\n",
    "print str(amis)+'\\n'"
   ]
  },
  {
   "cell_type": "code",
   "execution_count": 1,
   "metadata": {
    "collapsed": false,
    "scrolled": false
   },
   "outputs": [
    {
     "name": "stdout",
     "output_type": "stream",
     "text": [
      "the best score for method \"word2vec\" + \"2 persons in a chapiter\" + \"at most 2 lines distances between 2 persons\"with DBSCAN :\n",
      "\n",
      "configuration for word2vec and adjusted rand score:\n",
      "\n",
      "for word2vec: size=200, window=4, min_count=2 for DBSCAN: eps=0.7, min_samples=1, algorithm=auto\n",
      "\n",
      "the score is : \n",
      "0.147429590456\n",
      "\n",
      "configuration for word2vec and adjusted mutual info score:\n",
      "\n",
      "for word2vec: size=100, window=15, min_count=1 for DBSCAN: eps=0.85, min_samples=1, algorithm=auto\n",
      "\n",
      "the score is : \n",
      "0.192615986116\n",
      "\n"
     ]
    }
   ],
   "source": [
    "f = open('./result_evaluation_DBSCAN_word2vec_chapiter_paragraph')\n",
    "\n",
    "num = 0\n",
    "ars = 0.\n",
    "amis = 0.\n",
    "for line in f:\n",
    "    num = num + 1\n",
    "    context = line.split('\\n')[0]\n",
    "    if ',' in line:\n",
    "        num = 1\n",
    "        temp = context\n",
    "    if num == 2:\n",
    "        if float(context) > ars:\n",
    "            ars = float(context)\n",
    "            cfg_ars = temp\n",
    "    if num == 3:\n",
    "        if float(context) > amis:\n",
    "            amis = float(context)\n",
    "            cfg_amis = temp\n",
    "\n",
    "f.close()\n",
    "\n",
    "print 'the best score for method \\\"word2vec\\\" + \\\"2 persons in a chapiter\\\" + \\\"at most 2 lines distances between 2 persons\\\"with DBSCAN :\\n'\n",
    "print 'configuration for word2vec and adjusted rand score:\\n'\n",
    "print cfg_ars+'\\n'\n",
    "print 'the score is : '\n",
    "print str(ars)+'\\n'\n",
    "print 'configuration for word2vec and adjusted mutual info score:\\n'\n",
    "print cfg_amis+'\\n'\n",
    "print 'the score is : '\n",
    "print str(amis)+'\\n'"
   ]
  },
  {
   "cell_type": "markdown",
   "metadata": {},
   "source": [
    "The configuration for clustering method DBSCAN is the same as mentioned above, and the range of configuration for word2vec is following:\n",
    "\n",
    "size: [50, 100, 150, 200] the size of dimension for the feature vectors, default: 100<br />\n",
    "window: [4, 5, 8, 15, 30, 50] the size of window who cover a neighbourhood of a word in center, default: 5<br />\n",
    "min_count: [1, 2, 3] the size of the filter, default: 5<br />"
   ]
  },
  {
   "cell_type": "code",
   "execution_count": 4,
   "metadata": {
    "collapsed": false
   },
   "outputs": [
    {
     "name": "stdout",
     "output_type": "stream",
     "text": [
      "the best score for method \"word2vec\" with DBSCAN :\n",
      "\n",
      "configuration for word2vec and adjusted rand score:\n",
      "\n",
      "for word2vec: size=150, window=30, min_count=3 for DBSCAN: eps=1.05, min_samples=1, algorithm=auto\n",
      "\n",
      "the score is : \n",
      "0.207034266088\n",
      "\n",
      "configuration for word2vec and adjusted mutual info score:\n",
      "\n",
      "for word2vec: size=150, window=30, min_count=3 for DBSCAN: eps=1.05, min_samples=1, algorithm=brute\n",
      "\n",
      "the score is : \n",
      "0.250545406748\n",
      "\n"
     ]
    }
   ],
   "source": [
    "f = open('./result_evaluation_DBSCAN_word2vec')\n",
    "\n",
    "num = 0\n",
    "ars = 0.\n",
    "amis = 0.\n",
    "for line in f:\n",
    "    num = num + 1\n",
    "    context = line.split('\\n')[0]\n",
    "    if ',' in line:\n",
    "        num = 1\n",
    "        temp = context\n",
    "    if num == 2:\n",
    "        if float(context) > ars:\n",
    "            ars = float(context)\n",
    "            cfg_ars = temp\n",
    "    if num == 3:\n",
    "        if float(context) > amis:\n",
    "            amis = float(context)\n",
    "            cfg_amis = temp\n",
    "\n",
    "f.close()\n",
    "\n",
    "print 'the best score for method \\\"word2vec\\\" with DBSCAN :\\n'\n",
    "print 'configuration for word2vec and adjusted rand score:\\n'\n",
    "print cfg_ars+'\\n'\n",
    "print 'the score is : '\n",
    "print str(ars)+'\\n'\n",
    "print 'configuration for word2vec and adjusted mutual info score:\\n'\n",
    "print cfg_amis+'\\n'\n",
    "print 'the score is : '\n",
    "print str(amis)+'\\n'"
   ]
  },
  {
   "cell_type": "code",
   "execution_count": 2,
   "metadata": {
    "collapsed": false
   },
   "outputs": [
    {
     "name": "stdout",
     "output_type": "stream",
     "text": [
      "the best score for method \"word2vec\" + \"2 persons in a chapiter\" with DBSCAN :\n",
      "\n",
      "configuration for word2vec and adjusted rand score:\n",
      "\n",
      "for word2vec: size=200, window=4, min_count=2 for DBSCAN: eps=0.8, min_samples=1, algorithm=auto\n",
      "\n",
      "the score is : \n",
      "0.185597764519\n",
      "\n",
      "configuration for word2vec and adjusted mutual info score:\n",
      "\n",
      "for word2vec: size=150, window=8, min_count=1 for DBSCAN: eps=0.95, min_samples=1, algorithm=auto\n",
      "\n",
      "the score is : \n",
      "0.214959583689\n",
      "\n"
     ]
    }
   ],
   "source": [
    "f = open('./result_evaluation_DBSCAN_word2vec_chapiter')\n",
    "\n",
    "num = 0\n",
    "ars = 0.\n",
    "amis = 0.\n",
    "for line in f:\n",
    "    num = num + 1\n",
    "    context = line.split('\\n')[0]\n",
    "    if ',' in line:\n",
    "        num = 1\n",
    "        temp = context\n",
    "    if num == 2:\n",
    "        if float(context) > ars:\n",
    "            ars = float(context)\n",
    "            cfg_ars = temp\n",
    "    if num == 3:\n",
    "        if float(context) > amis:\n",
    "            amis = float(context)\n",
    "            cfg_amis = temp\n",
    "\n",
    "f.close()\n",
    "\n",
    "print 'the best score for method \\\"word2vec\\\" + \\\"2 persons in a chapiter\\\" with DBSCAN :\\n'\n",
    "print 'configuration for word2vec and adjusted rand score:\\n'\n",
    "print cfg_ars+'\\n'\n",
    "print 'the score is : '\n",
    "print str(ars)+'\\n'\n",
    "print 'configuration for word2vec and adjusted mutual info score:\\n'\n",
    "print cfg_amis+'\\n'\n",
    "print 'the score is : '\n",
    "print str(amis)+'\\n'"
   ]
  },
  {
   "cell_type": "code",
   "execution_count": 3,
   "metadata": {
    "collapsed": false
   },
   "outputs": [
    {
     "name": "stdout",
     "output_type": "stream",
     "text": [
      "the best score for method \"word2vec\" + \"at most 2 lines distances between 2 persons\" with DBSCAN :\n",
      "\n",
      "configuration for word2vec and adjusted rand score:\n",
      "\n",
      "for word2vec: size=50, window=15, min_count=3 for DBSCAN: eps=0.65, min_samples=1, algorithm=auto\n",
      "\n",
      "the score is : \n",
      "0.168279271983\n",
      "\n",
      "configuration for word2vec and adjusted mutual info score:\n",
      "\n",
      "for word2vec: size=200, window=50, min_count=1 for DBSCAN: eps=0.85, min_samples=1, algorithm=auto\n",
      "\n",
      "the score is : \n",
      "0.197999871877\n",
      "\n"
     ]
    }
   ],
   "source": [
    "f = open('./result_evaluation_DBSCAN_word2vec_paragraph')\n",
    "\n",
    "num = 0\n",
    "ars = 0.\n",
    "amis = 0.\n",
    "for line in f:\n",
    "    num = num + 1\n",
    "    context = line.split('\\n')[0]\n",
    "    if ',' in line:\n",
    "        num = 1\n",
    "        temp = context\n",
    "    if num == 2:\n",
    "        if float(context) > ars:\n",
    "            ars = float(context)\n",
    "            cfg_ars = temp\n",
    "    if num == 3:\n",
    "        if float(context) > amis:\n",
    "            amis = float(context)\n",
    "            cfg_amis = temp\n",
    "\n",
    "f.close()\n",
    "\n",
    "print 'the best score for method \\\"word2vec\\\" + \\\"at most 2 lines distances between 2 persons\\\" with DBSCAN :\\n'\n",
    "print 'configuration for word2vec and adjusted rand score:\\n'\n",
    "print cfg_ars+'\\n'\n",
    "print 'the score is : '\n",
    "print str(ars)+'\\n'\n",
    "print 'configuration for word2vec and adjusted mutual info score:\\n'\n",
    "print cfg_amis+'\\n'\n",
    "print 'the score is : '\n",
    "print str(amis)+'\\n'"
   ]
  }
 ],
 "metadata": {
  "kernelspec": {
   "display_name": "Python 2",
   "language": "python",
   "name": "python2"
  },
  "language_info": {
   "codemirror_mode": {
    "name": "ipython",
    "version": 2
   },
   "file_extension": ".py",
   "mimetype": "text/x-python",
   "name": "python",
   "nbconvert_exporter": "python",
   "pygments_lexer": "ipython2",
   "version": "2.7.6"
  }
 },
 "nbformat": 4,
 "nbformat_minor": 0
}
