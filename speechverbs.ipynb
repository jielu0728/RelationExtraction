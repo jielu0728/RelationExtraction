{
 "cells": [
  {
   "cell_type": "code",
   "execution_count": 1,
   "metadata": {
    "collapsed": true
   },
   "outputs": [],
   "source": [
    "from nltk.stem.wordnet import WordNetLemmatizer\n",
    "import nltk\n",
    "import string\n",
    "import jsonrpclib\n",
    "from simplejson import loads\n",
    "server = jsonrpclib.Server(\"http://localhost:8080\")\n",
    "replace_punctuation = string.maketrans(string.punctuation, ' '*len(string.punctuation))"
   ]
  },
  {
   "cell_type": "code",
   "execution_count": 2,
   "metadata": {
    "collapsed": false
   },
   "outputs": [
    {
     "name": "stdout",
     "output_type": "stream",
     "text": [
      "    This was the closest Davos had come to His Grace in the eight days since Black Betha had joined the rest of the fleet off Storm's End. He'd sought an audience within an hour of his arrival, only to be told that the king was occupied. The king was often occupied, Davos learned from his son Devan, one of the royal squires. Now that Stannis Baratheon had come into his power, the lordlings buzzed around him like flies round a corpse. He looks half a corpse too, years older than when I left Dragonstone. Devan said the king scarcely slept of late. \"Since Lord Renly died, he has been troubled by terrible nightmares,\" the boy had confided to his father. \"Maester's potions do not touch them. Only the Lady Melisandre can soothe him to sleep.\"\n",
      "\n"
     ]
    }
   ],
   "source": [
    "annotation = open('./annotation_speaker.new')\n",
    "\n",
    "text = annotation.readline()\n",
    "print text\n",
    "\n",
    "annotation.close()"
   ]
  },
  {
   "cell_type": "code",
   "execution_count": 3,
   "metadata": {
    "collapsed": false
   },
   "outputs": [
    {
     "name": "stdout",
     "output_type": "stream",
     "text": [
      "['address', 'admit', 'advise', 'agree', 'analyse', 'announce', 'answer', 'appeal', 'argue', 'articulate', 'ask', 'assure', 'babble', 'bark', 'bawl', 'beg', 'bellow', 'bemoan', 'blabber', 'blather', 'bleat', 'blubber', 'bluff', 'blurt', 'bluster', 'boast', 'brag', 'breathe', 'cackle', 'call', 'chant', 'chatter', 'check', 'cheer', 'chime', 'chirp', 'chirrup', 'chortle', 'chuckle', 'clarify', 'cluck', 'coax', 'comment', 'complain', 'concede', 'confess', 'confide', 'confirm', 'consent', 'convey', 'coo', 'correct', 'couch', 'cough', 'critique', 'crow', 'cry', 'decide', 'declare', 'delineate', 'demand', 'describe', 'disagree', 'drawl', 'drone', 'entreat', 'exclaim', 'expand', 'explain', 'express', 'falter', 'forward', 'fuss', 'giggle', 'goad', 'groan', 'grumble', 'growl', 'grunt', 'hint', 'hiss', 'holler', 'hoot', 'howl', 'hum', 'illustrate', 'implore', 'inform', 'insist', 'interrupt', 'intimate', 'intone', 'jabber', 'jibber', 'judge', 'laud', 'laugh', 'lecture', 'lie', 'maintain', 'mention', 'mislead', 'moan', 'mouth', 'mumble', 'murmur', 'mutter', 'nag', 'narrate', 'observe', 'offer', 'order', 'outline', 'pant', 'parrot', 'persuade', 'pester', 'plead', 'prattle', 'preach', 'proclaim', 'profess', 'proffer', 'pronounce', 'purr', 'query', 'question', 'quote', 'ramble', 'rant', 'recommend', 'recount', 'rebuff', 'refuse', 'rejoin', 'remonstrate', 'repeat', 'reply', 'report', 'respond', 'retort', 'reveal', 'roar', 'sass', 'say', 'scream', 'screech', 'scold', 'shout', 'shriek', 'sing', 'simper', 'sigh', 'slur', 'snap', 'snarl', 'snicker', 'sniff', 'snigger', 'snivel', 'sob', 'speak', 'spit', 'spout', 'sputter', 'squawk', 'squeak', 'squeal', 'stammer', 'state', 'stutter', 'submit', 'suggest', 'summarise', 'summon', 'surmise', 'table', 'tattle', 'taunt', 'tease', 'tell', 'trill', 'twitter', 'urge', 'upbraid', 'vocalise', 'vociferate', 'voice', 'wail', 'warble', 'weep', 'whimper', 'whine', 'whisper', 'whistle', 'wonder', 'yammer', 'yap', 'yell', 'yelp']\n"
     ]
    }
   ],
   "source": [
    "f = open('./speechverbs')\n",
    "\n",
    "speechverbs = []\n",
    "for line in f:\n",
    "    if line != '\\n':\n",
    "        speechverbs.append(line.split('\\n')[0].lower())\n",
    "print speechverbs"
   ]
  },
  {
   "cell_type": "code",
   "execution_count": 4,
   "metadata": {
    "collapsed": false
   },
   "outputs": [
    {
     "name": "stdout",
     "output_type": "stream",
     "text": [
      "was\n",
      "had\n",
      "come\n",
      "had\n",
      "joined\n",
      "sought\n",
      "be\n",
      "told\n",
      "was\n",
      "occupied\n",
      "was\n",
      "occupied\n",
      "learned\n",
      "had\n",
      "come\n",
      "buzzed\n",
      "round\n",
      "looks\n",
      "left\n",
      "said\n",
      "slept\n",
      "died\n",
      "has\n",
      "been\n",
      "troubled\n",
      "had\n",
      "confided\n",
      "do\n",
      "touch\n",
      "soothe\n",
      "sleep\n"
     ]
    }
   ],
   "source": [
    "verbs = []\n",
    "lemmas = []\n",
    "position_verbs = []\n",
    "result = loads(server.parse(text))\n",
    "for i in range(len(result['sentences'])):\n",
    "    for obj in result['sentences'][i]['parsetree'].split('] ['):\n",
    "        if 'PartOfSpeech=VB' in obj:\n",
    "            lemmas.append(obj.split(' ')[4].split('=')[1])\n",
    "            verbs.append(obj.split(' ')[0].split('=')[1])\n",
    "            position_verbs.append(obj.split(' ')[1].split('=')[1])\n",
    "            \n",
    "for unit in verbs:\n",
    "    print unit"
   ]
  },
  {
   "cell_type": "code",
   "execution_count": 5,
   "metadata": {
    "collapsed": false
   },
   "outputs": [
    {
     "name": "stdout",
     "output_type": "stream",
     "text": [
      "[u'root', u'ROOT', u'closest']\n",
      "[u'nsubj', u'closest', u'This']\n",
      "[u'cop', u'closest', u'was']\n",
      "[u'det', u'closest', u'the']\n",
      "[u'nsubj', u'come', u'Davos']\n",
      "[u'aux', u'come', u'had']\n",
      "[u'acl:relcl', u'closest', u'come']\n",
      "[u'case', u'Grace', u'to']\n",
      "[u'nmod:poss', u'Grace', u'His']\n",
      "[u'nmod:to', u'come', u'Grace']\n",
      "[u'case', u'days', u'in']\n",
      "[u'det', u'days', u'the']\n",
      "[u'nummod', u'days', u'eight']\n",
      "[u'nmod:in', u'Grace', u'days']\n",
      "[u'mark', u'joined', u'since']\n",
      "[u'amod', u'Betha', u'Black']\n",
      "[u'nsubj', u'joined', u'Betha']\n",
      "[u'aux', u'joined', u'had']\n",
      "[u'advcl', u'come', u'joined']\n",
      "[u'det', u'rest', u'the']\n",
      "[u'dobj', u'joined', u'rest']\n",
      "[u'case', u'fleet', u'of']\n",
      "[u'det', u'fleet', u'the']\n",
      "[u'nmod:of', u'rest', u'fleet']\n",
      "[u'case', u'End', u'off']\n",
      "[u'nmod:poss', u'End', u'Storm']\n",
      "[u'case', u'Storm', u\"'s\"]\n",
      "[u'nmod:off', u'joined', u'End']\n",
      "[u'root', u'ROOT', u'sought']\n",
      "[u'nsubj', u'sought', u'He']\n",
      "[u'aux', u'sought', u\"'d\"]\n",
      "[u'det', u'audience', u'an']\n",
      "[u'dobj', u'sought', u'audience']\n",
      "[u'case', u'hour', u'within']\n",
      "[u'det', u'hour', u'an']\n",
      "[u'nmod:within', u'sought', u'hour']\n",
      "[u'case', u'arrival', u'of']\n",
      "[u'nmod:poss', u'arrival', u'his']\n",
      "[u'nmod:of', u'hour', u'arrival']\n",
      "[u'advmod', u'told', u'only']\n",
      "[u'mark', u'told', u'to']\n",
      "[u'auxpass', u'told', u'be']\n",
      "[u'advcl', u'sought', u'told']\n",
      "[u'mark', u'occupied', u'that']\n",
      "[u'det', u'king', u'the']\n",
      "[u'nsubjpass', u'occupied', u'king']\n",
      "[u'auxpass', u'occupied', u'was']\n",
      "[u'ccomp', u'told', u'occupied']\n",
      "[u'root', u'ROOT', u'learned']\n",
      "[u'det', u'king', u'The']\n",
      "[u'nsubjpass', u'occupied', u'king']\n",
      "[u'auxpass', u'occupied', u'was']\n",
      "[u'advmod', u'occupied', u'often']\n",
      "[u'ccomp', u'learned', u'occupied']\n",
      "[u'nsubj', u'learned', u'Davos']\n",
      "[u'case', u'Devan', u'from']\n",
      "[u'nmod:poss', u'Devan', u'his']\n",
      "[u'compound', u'Devan', u'son']\n",
      "[u'nmod:from', u'learned', u'Devan']\n",
      "[u'appos', u'Devan', u'one']\n",
      "[u'case', u'squires', u'of']\n",
      "[u'det', u'squires', u'the']\n",
      "[u'compound', u'squires', u'royal']\n",
      "[u'nmod:of', u'one', u'squires']\n",
      "[u'root', u'ROOT', u'round']\n",
      "[u'advmod', u'come', u'Now']\n",
      "[u'mark', u'come', u'that']\n",
      "[u'compound', u'Baratheon', u'Stannis']\n",
      "[u'nsubj', u'come', u'Baratheon']\n",
      "[u'aux', u'come', u'had']\n",
      "[u'advcl', u'round', u'come']\n",
      "[u'case', u'power', u'into']\n",
      "[u'nmod:poss', u'power', u'his']\n",
      "[u'nmod:into', u'come', u'power']\n",
      "[u'det', u'lordlings', u'the']\n",
      "[u'nsubj', u'round', u'lordlings']\n",
      "[u'acl', u'lordlings', u'buzzed']\n",
      "[u'case', u'him', u'around']\n",
      "[u'nmod:around', u'buzzed', u'him']\n",
      "[u'case', u'flies', u'like']\n",
      "[u'nmod:like', u'buzzed', u'flies']\n",
      "[u'det', u'corpse', u'a']\n",
      "[u'dobj', u'round', u'corpse']\n",
      "[u'root', u'ROOT', u'looks']\n",
      "[u'nsubj', u'looks', u'He']\n",
      "[u'det:predet', u'corpse', u'half']\n",
      "[u'det', u'corpse', u'a']\n",
      "[u'dobj', u'looks', u'corpse']\n",
      "[u'advmod', u'looks', u'too']\n",
      "[u'nsubj', u'older', u'years']\n",
      "[u'xcomp', u'looks', u'older']\n",
      "[u'mark', u'left', u'than']\n",
      "[u'advmod', u'left', u'when']\n",
      "[u'nsubj', u'left', u'I']\n",
      "[u'advcl', u'older', u'left']\n",
      "[u'dobj', u'left', u'Dragonstone']\n",
      "[u'root', u'ROOT', u'said']\n",
      "[u'nsubj', u'said', u'Devan']\n",
      "[u'det', u'king', u'the']\n",
      "[u'nsubj', u'slept', u'king']\n",
      "[u'advmod', u'slept', u'scarcely']\n",
      "[u'ccomp', u'said', u'slept']\n",
      "[u'case', u'late', u'of']\n",
      "[u'nmod:of', u'slept', u'late']\n",
      "[u'root', u'ROOT', u'confided']\n",
      "[u'mark', u'died', u'Since']\n",
      "[u'compound', u'Renly', u'Lord']\n",
      "[u'nsubj', u'died', u'Renly']\n",
      "[u'advcl', u'troubled', u'died']\n",
      "[u'nsubjpass', u'troubled', u'he']\n",
      "[u'aux', u'troubled', u'has']\n",
      "[u'auxpass', u'troubled', u'been']\n",
      "[u'ccomp', u'confided', u'troubled']\n",
      "[u'case', u'nightmares', u'by']\n",
      "[u'amod', u'nightmares', u'terrible']\n",
      "[u'nmod:agent', u'troubled', u'nightmares']\n",
      "[u'det', u'boy', u'the']\n",
      "[u'nsubj', u'confided', u'boy']\n",
      "[u'aux', u'confided', u'had']\n",
      "[u'case', u'father', u'to']\n",
      "[u'nmod:poss', u'father', u'his']\n",
      "[u'nmod:to', u'confided', u'father']\n",
      "[u'root', u'ROOT', u'touch']\n",
      "[u'nmod:poss', u'potions', u'Maester']\n",
      "[u'case', u'Maester', u\"'s\"]\n",
      "[u'nsubj', u'touch', u'potions']\n",
      "[u'aux', u'touch', u'do']\n",
      "[u'neg', u'touch', u'not']\n",
      "[u'dobj', u'touch', u'them']\n",
      "[u'root', u'ROOT', u'soothe']\n",
      "[u'advmod', u'Melisandre', u'Only']\n",
      "[u'det', u'Melisandre', u'the']\n",
      "[u'compound', u'Melisandre', u'Lady']\n",
      "[u'nsubj', u'soothe', u'Melisandre']\n",
      "[u'aux', u'soothe', u'can']\n",
      "[u'dobj', u'soothe', u'him']\n",
      "[u'mark', u'sleep', u'to']\n",
      "[u'xcomp', u'soothe', u'sleep']\n"
     ]
    }
   ],
   "source": [
    "for i in range(len(result['sentences'])):\n",
    "    for unit in result['sentences'][i]['dependencies']:\n",
    "        print unit"
   ]
  },
  {
   "cell_type": "code",
   "execution_count": 6,
   "metadata": {
    "collapsed": false
   },
   "outputs": [
    {
     "name": "stdout",
     "output_type": "stream",
     "text": [
      "[[23, 0, 543], [23, 0, 521], [23, 0, 517], [23, 0, 463], [23, 0, 459], [23, 0, 408], [23, 0, 350], [23, 1, 347], [23, 0, 328], [23, 0, 324], [23, 0, 305], [23, 0, 295], [23, 0, 279], [23, 0, 198], [23, 0, 194], [23, 0, 159], [23, 0, 130], [23, 0, 111], [23, 0, 62], [23, 1, 38], [23, 0, 15], [23, 0, 10], [23, 1, 14]]\n"
     ]
    }
   ],
   "source": [
    "feature = []\n",
    "position_quotation = []\n",
    "position = 0\n",
    "start = 0\n",
    "for c in text:\n",
    "    if c != ' ':\n",
    "        start = 1\n",
    "    if c == '\"':\n",
    "        position_quotation.append(position)\n",
    "    if start == 1:\n",
    "        position = position+1\n",
    "distance = []\n",
    "list_filter = []\n",
    "n = 0\n",
    "for obj in position_verbs:\n",
    "    if len(position_quotation) == 1:\n",
    "        distance.append(int(obj)-position_quotation[0])\n",
    "    else:\n",
    "        stat = 0\n",
    "        writed = 0\n",
    "        for i in range(len(position_quotation)):\n",
    "            if i%2 == 0:\n",
    "                dist1 = int(obj)-position_quotation[i]\n",
    "            elif i%2 == 1:\n",
    "                dist2 = int(obj)-position_quotation[i]\n",
    "                stat = 1\n",
    "            if stat == 1:\n",
    "                if dist1 * dist2 <0:\n",
    "                    list_filter.append(n)\n",
    "                if writed == 0:\n",
    "                    distance.append((abs(dist1)+abs(dist2)-(position_quotation[i]-position_quotation[i-1]-1))/2)\n",
    "                stat = 0\n",
    "                writed = 1\n",
    "    n = n+1\n",
    "\n",
    "for index in sorted(list_filter, reverse=True):\n",
    "    del position_verbs[index]\n",
    "    del distance[index]\n",
    "    del verbs[index]\n",
    "    del lemmas[index]\n",
    "\n",
    "'''print list_filter\n",
    "print len(position_verbs)\n",
    "print distance\n",
    "print len(verbs)\n",
    "print position_quotation'''\n",
    "\n",
    "\n",
    "for i in range(len(verbs)):\n",
    "    feature.append([])\n",
    "    feature[i].append(len(verbs))\n",
    "    if lemmas[i].lower() in speechverbs:\n",
    "        feature[i].append(1)\n",
    "    elif lemmas[i].lower() not in speechverbs:\n",
    "        feature[i].append(0)\n",
    "    feature[i].append(distance[i])\n",
    "    \n",
    "print feature"
   ]
  },
  {
   "cell_type": "markdown",
   "metadata": {},
   "source": [
    "Features:\n",
    "\n",
    "subject in the utterance or not\n",
    "\n",
    "verb in the speechverbs list or not\n",
    "\n",
    "the subject is person or not\n",
    "\n",
    "if no subject is person try with objects or Possessive Pronouns\n",
    "\n",
    "the subject is little possible to be multipersons\n",
    "\n",
    "distance between verbes and utterances"
   ]
  }
 ],
 "metadata": {
  "kernelspec": {
   "display_name": "Python 2",
   "language": "python",
   "name": "python2"
  },
  "language_info": {
   "codemirror_mode": {
    "name": "ipython",
    "version": 2
   },
   "file_extension": ".py",
   "mimetype": "text/x-python",
   "name": "python",
   "nbconvert_exporter": "python",
   "pygments_lexer": "ipython2",
   "version": "2.7.6"
  }
 },
 "nbformat": 4,
 "nbformat_minor": 0
}
