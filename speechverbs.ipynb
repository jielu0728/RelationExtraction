{
 "cells": [
  {
   "cell_type": "code",
   "execution_count": 26,
   "metadata": {
    "collapsed": true
   },
   "outputs": [],
   "source": [
    "from nltk.stem.wordnet import WordNetLemmatizer\n",
    "import nltk\n",
    "import string\n",
    "import jsonrpclib\n",
    "from simplejson import loads\n",
    "server = jsonrpclib.Server(\"http://localhost:8080\")\n",
    "replace_punctuation = string.maketrans(string.punctuation, ' '*len(string.punctuation))"
   ]
  },
  {
   "cell_type": "code",
   "execution_count": 14,
   "metadata": {
    "collapsed": false
   },
   "outputs": [
    {
     "name": "stdout",
     "output_type": "stream",
     "text": [
      "    This was the closest Davos had come to His Grace in the eight days since Black Betha had joined the rest of the fleet off Storm's End. He'd sought an audience within an hour of his arrival, only to be told that the king was occupied. The king was often occupied, Davos learned from his son Devan, one of the royal squires. Now that Stannis Baratheon had come into his power, the lordlings buzzed around him like flies round a corpse. He looks half a corpse too, years older than when I left Dragonstone. Devan said the king scarcely slept of late. \"Since Lord Renly died, he has been troubled by terrible nightmares,\" the boy had confided to his father. \"Maester's potions do not touch them. Only the Lady Melisandre can soothe him to sleep.\"\n",
      "\n"
     ]
    }
   ],
   "source": [
    "annotation = open('./annotation_speaker.new')\n",
    "\n",
    "text = annotation.readline()\n",
    "print text"
   ]
  },
  {
   "cell_type": "code",
   "execution_count": 25,
   "metadata": {
    "collapsed": false
   },
   "outputs": [
    {
     "name": "stdout",
     "output_type": "stream",
     "text": [
      "[Text=was CharacterOffsetBegin=5 CharacterOffsetEnd=8 PartOfSpeech=VBD Lemma=be NamedEntityTag=O\n",
      "Text=had CharacterOffsetBegin=27 CharacterOffsetEnd=30 PartOfSpeech=VBD Lemma=have NamedEntityTag=O\n",
      "Text=come CharacterOffsetBegin=31 CharacterOffsetEnd=35 PartOfSpeech=VBN Lemma=come NamedEntityTag=O\n",
      "Text=had CharacterOffsetBegin=85 CharacterOffsetEnd=88 PartOfSpeech=VBD Lemma=have NamedEntityTag=O\n",
      "Text=joined CharacterOffsetBegin=89 CharacterOffsetEnd=95 PartOfSpeech=VBN Lemma=join NamedEntityTag=O\n",
      "Text=sought CharacterOffsetBegin=140 CharacterOffsetEnd=146 PartOfSpeech=VBD Lemma=seek NamedEntityTag=O\n",
      "Text=be CharacterOffsetBegin=198 CharacterOffsetEnd=200 PartOfSpeech=VB Lemma=be NamedEntityTag=O\n",
      "Text=told CharacterOffsetBegin=201 CharacterOffsetEnd=205 PartOfSpeech=VBN Lemma=tell NamedEntityTag=O\n",
      "Text=was CharacterOffsetBegin=220 CharacterOffsetEnd=223 PartOfSpeech=VBD Lemma=be NamedEntityTag=O\n",
      "Text=occupied CharacterOffsetBegin=224 CharacterOffsetEnd=232 PartOfSpeech=VBN Lemma=occupy NamedEntityTag=O\n",
      "Text=was CharacterOffsetBegin=243 CharacterOffsetEnd=246 PartOfSpeech=VBD Lemma=be NamedEntityTag=O\n",
      "Text=occupied CharacterOffsetBegin=253 CharacterOffsetEnd=261 PartOfSpeech=VBN Lemma=occupy NamedEntityTag=O\n",
      "Text=learned CharacterOffsetBegin=269 CharacterOffsetEnd=276 PartOfSpeech=VBD Lemma=learn NamedEntityTag=O\n",
      "Text=had CharacterOffsetBegin=350 CharacterOffsetEnd=353 PartOfSpeech=VBD Lemma=have NamedEntityTag=O\n",
      "Text=come CharacterOffsetBegin=354 CharacterOffsetEnd=358 PartOfSpeech=VBN Lemma=come NamedEntityTag=O\n",
      "Text=buzzed CharacterOffsetBegin=389 CharacterOffsetEnd=395 PartOfSpeech=VBN Lemma=buzz NamedEntityTag=O\n",
      "Text=round CharacterOffsetBegin=418 CharacterOffsetEnd=423 PartOfSpeech=VBP Lemma=round NamedEntityTag=O\n",
      "[Text=looks CharacterOffsetBegin=437 CharacterOffsetEnd=442 PartOfSpeech=VBZ Lemma=look NamedEntityTag=O\n",
      "Text=left CharacterOffsetBegin=486 CharacterOffsetEnd=490 PartOfSpeech=VBD Lemma=leave NamedEntityTag=O\n",
      "[Text=said CharacterOffsetBegin=510 CharacterOffsetEnd=514 PartOfSpeech=VBD Lemma=say NamedEntityTag=O\n",
      "Text=slept CharacterOffsetBegin=533 CharacterOffsetEnd=538 PartOfSpeech=VBD Lemma=sleep NamedEntityTag=O\n",
      "Text=died CharacterOffsetBegin=566 CharacterOffsetEnd=570 PartOfSpeech=VBD Lemma=die NamedEntityTag=O\n",
      "Text=has CharacterOffsetBegin=575 CharacterOffsetEnd=578 PartOfSpeech=VBZ Lemma=have NamedEntityTag=O\n",
      "Text=been CharacterOffsetBegin=579 CharacterOffsetEnd=583 PartOfSpeech=VBN Lemma=be NamedEntityTag=O\n",
      "Text=troubled CharacterOffsetBegin=584 CharacterOffsetEnd=592 PartOfSpeech=VBN Lemma=trouble NamedEntityTag=O\n",
      "Text=had CharacterOffsetBegin=626 CharacterOffsetEnd=629 PartOfSpeech=VBD Lemma=have NamedEntityTag=O\n",
      "Text=confided CharacterOffsetBegin=630 CharacterOffsetEnd=638 PartOfSpeech=VBN Lemma=confide NamedEntityTag=O\n",
      "Text=do CharacterOffsetBegin=673 CharacterOffsetEnd=675 PartOfSpeech=VBP Lemma=do NamedEntityTag=O\n",
      "Text=touch CharacterOffsetBegin=680 CharacterOffsetEnd=685 PartOfSpeech=VB Lemma=touch NamedEntityTag=O\n",
      "Text=soothe CharacterOffsetBegin=721 CharacterOffsetEnd=727 PartOfSpeech=VB Lemma=soothe NamedEntityTag=O\n",
      "Text=sleep CharacterOffsetBegin=735 CharacterOffsetEnd=740 PartOfSpeech=VB Lemma=sleep NamedEntityTag=O\n"
     ]
    }
   ],
   "source": [
    "result = loads(server.parse(text))\n",
    "for i in range(len(result['sentences'])):\n",
    "    for obj in result['sentences'][i]['parsetree'].split('] ['):\n",
    "        if 'PartOfSpeech=VB' in obj:\n",
    "            print obj"
   ]
  },
  {
   "cell_type": "markdown",
   "metadata": {},
   "source": [
    "Features:\n",
    "\n",
    "subject in the utterance or not\n",
    "\n",
    "verb in the speechverbs list or not\n",
    "\n",
    "the subject is person or not\n",
    "\n",
    "if no subject is person try with objects or Possessive Pronouns\n",
    "\n",
    "the subject is little possible to be multipersons\n",
    "\n",
    "distance between verbes and utterances"
   ]
  }
 ],
 "metadata": {
  "kernelspec": {
   "display_name": "Python 2",
   "language": "python",
   "name": "python2"
  },
  "language_info": {
   "codemirror_mode": {
    "name": "ipython",
    "version": 2
   },
   "file_extension": ".py",
   "mimetype": "text/x-python",
   "name": "python",
   "nbconvert_exporter": "python",
   "pygments_lexer": "ipython2",
   "version": "2.7.6"
  }
 },
 "nbformat": 4,
 "nbformat_minor": 0
}
