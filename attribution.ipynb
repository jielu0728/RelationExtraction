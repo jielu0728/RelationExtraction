{
 "cells": [
  {
   "cell_type": "code",
   "execution_count": 1,
   "metadata": {
    "collapsed": false
   },
   "outputs": [],
   "source": [
    "import nltk\n",
    "import string\n",
    "import jsonrpclib\n",
    "from simplejson import loads\n",
    "from nltk.corpus import wordnet as wn\n",
    "import re\n",
    "from string import punctuation\n",
    "server = jsonrpclib.Server(\"http://localhost:8080\")\n",
    "\n",
    "r = re.compile(r'[{}]'.format(punctuation))"
   ]
  },
  {
   "cell_type": "markdown",
   "metadata": {},
   "source": [
    "name appears in the paragraph before\n",
    "\n",
    "\n",
    "2 alternant lines \n",
    "\n",
    "if the name appears in the previous or following utterance with a pattern such as ',name,'\n",
    "\n",
    "the object of the speech verb\n"
   ]
  },
  {
   "cell_type": "code",
   "execution_count": 2,
   "metadata": {
    "collapsed": false
   },
   "outputs": [
    {
     "name": "stdout",
     "output_type": "stream",
     "text": [
      "[['    \"I want these letters burned, every one,\" Cersei declared. \"No hint of this must reach my son\\'s ears, or my father\\'s.\"'], [\"    He knew that shadow. As he knew the man who'd cast it.\", '    TYRION', '    The queen was not disposed to wait on Varys. \"Treason is vile enough,\" she declared furiously, \"but this is barefaced naked villainy, and I do not need that mincing eunuch to tell me what must be done with villains.\"', \"    Tyrion took the letters from his sister's hand and compared them side by side. There were two copies, the words exactly alike, though they had been written by different hands.\", '    \"Maester Frenken received the first missive at Castle Stokeworth,\" Grand Maester Pycelle explained. \"The second copy came through Lord Gyles.\"', '    Littlefinger fingered his beard. \"If Stannis bothered with them, it\\'s past certain every other lord in the Seven Kingdoms saw a copy as well.\"'], ['    \"I imagine Father\\'s heard rather more than a hint by now,\" Tyrion said dryly. \"Doubtless Stannis sent a bird to Casterly Rock, and another to Harrenhal. As for burning the letters, to what point? The song is sung, the wine is spilled, the wench is pregnant. And this is not as dire as it seems, in truth.\"', '    Cersei turned on him in green-eyed fury. \"Are you utterly witless? Did you read what he says? The boy Joffrey, he calls him. And he dares to accuse me of incest, adultery, and treason!\"', '    Only because you\\'re guilty. It was astonishing to see how angry Cersei could wax over accusations she knew perfectly well to be true. If we lose the war, she ought to take up mummery, she has a gift for it. Tyrion waited until she was done and said, \"Stannis must have some pretext to justify his rebellion. What did you expect him to write? \\'Joffrey is my brother\\'s trueborn son and heir, but I mean to take his throne for all that\\'?\"', '    \"I will not suffer to be called a whore!\"', '    Why, sister, he never claims Jaime paid you. Tyrion made a show of glancing over the writing again. There had been some niggling phrase... \"Done in the Light of the Lord,\" he read. \"A queer choice of words, that.\"']]\n"
     ]
    }
   ],
   "source": [
    "f = open('annotation_speaker')\n",
    "n = 0\n",
    "instance = []\n",
    "temp = []\n",
    "speaker = []\n",
    "p = 0\n",
    "keyposition = []   #the linenum of the paragraph to be treated\n",
    "for line in f:\n",
    "    if n <= 31080:\n",
    "        if '###############' in line:\n",
    "            keyposition.append(p)\n",
    "            current = [temp.pop()]\n",
    "            previous = temp[:]\n",
    "            temp = []\n",
    "            continue\n",
    "        if 'speaker:\t' in line:\n",
    "            speaker.append(line.split('speaker:\t')[1].split('\\r\\n')[0])\n",
    "            instance.append([current,previous,temp])\n",
    "            temp = []\n",
    "            p = 0\n",
    "            continue\n",
    "        if line.replace(' ','') != '\\r\\n':\n",
    "            temp.append(line.replace('\\r\\n',''))\n",
    "            p = p+1\n",
    "    n = n+1\n",
    "print instance[10]\n",
    "\n",
    "\n",
    "#instance [0,1,2]:\n",
    "#0 : current paragraph (including the object utterance)\n",
    "#1 : 9 previous paragraphs\n",
    "#2 : 5 following paragraphs\n"
   ]
  },
  {
   "cell_type": "code",
   "execution_count": 3,
   "metadata": {
    "collapsed": false,
    "scrolled": true
   },
   "outputs": [
    {
     "name": "stdout",
     "output_type": "stream",
     "text": [
      "[u'[Text=Cortnay CharacterOffsetBegin=8 CharacterOffsetEnd=15 PartOfSpeech=NNP Lemma=Cortnay NamedEntityTag=PERSON', u'Text=Penrose CharacterOffsetBegin=16 CharacterOffsetEnd=23 PartOfSpeech=NNP Lemma=Penrose NamedEntityTag=PERSON', u'Text=ignored CharacterOffsetBegin=24 CharacterOffsetEnd=31 PartOfSpeech=VBD Lemma=ignore NamedEntityTag=O', u'Text=him CharacterOffsetBegin=32 CharacterOffsetEnd=35 PartOfSpeech=PRP Lemma=he NamedEntityTag=O', u'Text=, CharacterOffsetBegin=35 CharacterOffsetEnd=36 PartOfSpeech=, Lemma=, NamedEntityTag=O', u'Text=preferring CharacterOffsetBegin=37 CharacterOffsetEnd=47 PartOfSpeech=VBG Lemma=prefer NamedEntityTag=O', u'Text=to CharacterOffsetBegin=48 CharacterOffsetEnd=50 PartOfSpeech=TO Lemma=to NamedEntityTag=O', u'Text=address CharacterOffsetBegin=51 CharacterOffsetEnd=58 PartOfSpeech=VB Lemma=address NamedEntityTag=O', u'Text=Stannis CharacterOffsetBegin=59 CharacterOffsetEnd=66 PartOfSpeech=NNP Lemma=Stannis NamedEntityTag=O', u'Text=. CharacterOffsetBegin=66 CharacterOffsetEnd=67 PartOfSpeech=. Lemma=. NamedEntityTag=O] (ROOT (S (NP (NNP Ser) (NNP Cortnay) (NNP Penrose)) (VP (VBD ignored) (NP (PRP him)) (, ,) (S (VP (VBG preferring) (S (VP (TO to) (VP (VB address) (NP (NNP Stannis)))))))) (. .)))']\n"
     ]
    }
   ],
   "source": [
    "result = loads(server.parse(instance[0][1][7]))\n",
    "print result['sentences'][0]['parsetree'].split('] [')"
   ]
  },
  {
   "cell_type": "code",
   "execution_count": 4,
   "metadata": {
    "collapsed": false
   },
   "outputs": [
    {
     "data": {
      "text/plain": [
       "[62, 102, 138, 100, 44, 9, 102, 78, 33, 21, 13, 17, 61, 6, 64]"
      ]
     },
     "execution_count": 4,
     "metadata": {},
     "output_type": "execute_result"
    }
   ],
   "source": [
    "def countwordperline(instance,num_instance):\n",
    "    numlist = []\n",
    "    for i in range(3):\n",
    "        for j in range(len(instance[i])):\n",
    "            new_strs = r.sub(' ',instance[i][j])\n",
    "            num = len(new_strs.split())\n",
    "            numlist.append(num)\n",
    "    numlist.insert(keyposition[num_instance]-1, numlist.pop(0))\n",
    "    return numlist\n",
    "            \n",
    "countwordperline(instance[0],0)"
   ]
  },
  {
   "cell_type": "code",
   "execution_count": 5,
   "metadata": {
    "collapsed": false
   },
   "outputs": [
    {
     "data": {
      "text/plain": [
       "676"
      ]
     },
     "execution_count": 5,
     "metadata": {},
     "output_type": "execute_result"
    }
   ],
   "source": [
    "def convertoffset(numlist,linenum,offset,sentence):\n",
    "    temp = sentence[0:offset]\n",
    "    new_strs = r.sub(' ',temp)\n",
    "    num = len(new_strs.split())\n",
    "    pos = 0\n",
    "    for i in range(linenum-1):\n",
    "        pos = pos + numlist[i]\n",
    "    return pos+num+1\n",
    "\n",
    "convertoffset(countwordperline(instance[0],0),keyposition[0],33,instance[0][0][0])"
   ]
  },
  {
   "cell_type": "code",
   "execution_count": 38,
   "metadata": {
    "collapsed": false
   },
   "outputs": [
    {
     "data": {
      "text/plain": [
       "(0, 0)"
      ]
     },
     "execution_count": 38,
     "metadata": {},
     "output_type": "execute_result"
    }
   ],
   "source": [
    "def convertposition(numlist,linenum,position):\n",
    "    temp = position\n",
    "    i = 0 \n",
    "    while temp > 0:\n",
    "        temp = temp - numlist[i]\n",
    "        i = i+1\n",
    "    i = i-1\n",
    "    if i == linenum-1:\n",
    "        return 0,0\n",
    "    elif i>linenum-1:\n",
    "        return 2,i-linenum\n",
    "    else:\n",
    "        return 1,i\n",
    "\n",
    "convertposition(countwordperline(instance[0],0),keyposition[0],669)"
   ]
  },
  {
   "cell_type": "code",
   "execution_count": 6,
   "metadata": {
    "collapsed": false,
    "scrolled": true
   },
   "outputs": [
    {
     "name": "stdout",
     "output_type": "stream",
     "text": [
      "progress : 0.0%\n",
      "\n",
      "[[[[[u'lady', 33, 676], [u'Ser', 40, 677], [u'Cortnay', 44, 678], [u'gods', 82, 685], [u'king', 104, 689]]], [[[u'Davos', 74, 14], [u'king', 306, 58]], [[u'man', 10, 64], [u'Davos', 71, 76], [u'Seaworth', 77, 77], [u'lords', 101, 81], [u'beasts', 292, 111], [u'Davos', 392, 128], [u'king', 403, 130]], [[u'Davos', 25, 169], [u'king', 219, 210], [u'king', 242, 214], [u'Davos', 267, 218], [u'son', 290, 222], [u'Devan', 294, 223], [u'squires', 318, 228], [u'Stannis', 336, 231], [u'Baratheon', 344, 232], [u'Dragonstone', 495, 260], [u'king', 523, 264], [u'Lord', 559, 270], [u'Renly', 564, 271], [u'boy', 626, 281], [u'father', 650, 286], [u'Maester', 659, 287], [u'Lady', 705, 296], [u'Melisandre', 710, 297]], [[u'son', 203, 343], [u'boy', 225, 348], [u'father', 292, 361], [u'Lord', 359, 373], [u'king', 402, 383], [u'squire', 409, 385], [u'king', 483, 400], [u'god', 490, 402]], [[u'Stannis', 97, 421], [u'Ser', 142, 429], [u'Cortnay', 146, 430], [u'standard-bearer', 162, 433]], [[u'lord', 8, 448]], [[u'king', 32, 462], [u'Grace', 52, 466], [u'Lord', 70, 468], [u'Florent', 75, 469], [u'fox', 95, 473], [u'Lord', 234, 497], [u'Brightwater', 242, 499], [u'Renly', 281, 506], [u'Stannis', 314, 512], [u'gods', 357, 520], [u'Lord', 378, 525], [u'queen', 414, 532], [u'Dragonstone', 423, 534], [u'uncle', 450, 538], [u'Axell', 456, 539], [u'queen', 471, 542], [u'men', 479, 544], [u'Alester', 530, 553], [u'Florent', 538, 554]], [[u'Cortnay', 8, 559], [u'Penrose', 16, 560], [u'Stannis', 59, 566], [u'lords', 106, 574], [u'Estermont', 112, 575], [u'Errol', 123, 576], [u'Varner', 134, 578], [u'Jon', 146, 580], [u'Fossoways', 169, 585], [u'Ser', 183, 587], [u'Bryan', 187, 588], [u'Caron', 210, 593], [u'Ser', 220, 595], [u'Guyard', 224, 596], [u'King', 234, 598], [u'Renly', 239, 599], [u'Rainbow', 247, 601], [u'Guard', 255, 602], [u'Lord', 282, 606], [u'Alester', 287, 607], [u'Florent', 295, 608], [u'Brightwater', 306, 610], [u'Onion', 344, 617], [u'Knight', 350, 618], [u'Ser', 386, 626], [u'Davos', 390, 627], [u'lady', 422, 635]], [[u'Melisandre', 16, 639], [u'king', 154, 663], [u'Lord', 168, 666]]], [[[u'king', 27, 695], [u'god', 46, 699], [u'Lord', 62, 701], [u'Florent', 67, 702]], [[u'lord', 41, 710]], [[u'Stannis', 47, 729]], [[u'Ser', 27, 785], [u'Cortnay', 31, 786]], [[u'Stannis', 29, 791], [u'lords', 100, 804], [u'men', 129, 810], [u'man', 275, 839]]]]]\n"
     ]
    }
   ],
   "source": [
    "def ner(instance):\n",
    "    entities = []\n",
    "    n = 0\n",
    "    for obj in instance:\n",
    "        numlist = countwordperline(obj,n)\n",
    "        print 'progress : '+str(float(n)/float(len(instance))*100)+'%\\n'\n",
    "        current = [[]]\n",
    "        temp = []\n",
    "        for z in range(len(loads(server.parse(obj[0][0]))['sentences'])):\n",
    "            temp = temp + loads(server.parse(obj[0][0]))['sentences'][z]['parsetree'].split('] [')\n",
    "        for frag in temp:\n",
    "            if 'PartOfSpeech=NNP' in frag:\n",
    "                text = frag.split('Text=')[1].split(' ')[0]\n",
    "                position = frag.split('CharacterOffsetBegin=')[1].split(' ')[0]\n",
    "                pos = convertoffset(numlist,keyposition[n],int(position),obj[0][0])\n",
    "                current[0].append([text,int(position),pos])\n",
    "            elif 'PartOfSpeech=N' in frag:\n",
    "                text = frag.split('Text=')[1].split(' ')[0]\n",
    "                position = frag.split('CharacterOffsetBegin=')[1].split(' ')[0]\n",
    "                pos = convertoffset(numlist,keyposition[n],int(position),obj[0][0])\n",
    "                lex = []\n",
    "                for synset in wn.synsets(text):\n",
    "                    lex.append(synset.lexname())\n",
    "                if lex == []:\n",
    "                    continue\n",
    "                elif float(lex.count('noun.person'))/float(len(lex)) >= 0.4:\n",
    "                    current[0].append([text,int(position),pos])\n",
    "        previous = []\n",
    "        for i in range(len(obj[1])):\n",
    "            previous.append([])\n",
    "            temp = []\n",
    "            for x in range(len(loads(server.parse(obj[1][i]))['sentences'])):\n",
    "                try:\n",
    "                    temp = temp + loads(server.parse(obj[1][i]))['sentences'][x]['parsetree'].split('] [')\n",
    "                except IndexError:\n",
    "                    continue\n",
    "            for frag in temp:\n",
    "                if 'PartOfSpeech=NNP' in frag:\n",
    "                    text = frag.split('Text=')[1].split(' ')[0]\n",
    "                    position = frag.split('CharacterOffsetBegin=')[1].split(' ')[0]\n",
    "                    pos = convertoffset(numlist,i+1,int(position),obj[1][i])\n",
    "                    previous[i].append([text,int(position),pos])\n",
    "                elif 'PartOfSpeech=N' in frag:\n",
    "                    text = frag.split('Text=')[1].split(' ')[0]\n",
    "                    position = frag.split('CharacterOffsetBegin=')[1].split(' ')[0]\n",
    "                    pos = convertoffset(numlist,i+1,int(position),obj[1][i])\n",
    "                    lex = []\n",
    "                    for synset in wn.synsets(text):\n",
    "                        lex.append(synset.lexname())\n",
    "                    if lex == []:\n",
    "                        continue\n",
    "                    elif float(lex.count('noun.person'))/float(len(lex)) >= 0.4:\n",
    "                        previous[i].append([text,int(position),pos])\n",
    "        following = []\n",
    "        for j in range(len(obj[2])):\n",
    "            following.append([])\n",
    "            temp = []\n",
    "            for y in range(len(loads(server.parse(obj[2][j]))['sentences'])):\n",
    "                try:\n",
    "                    temp = temp + loads(server.parse(obj[2][j]))['sentences'][y]['parsetree'].split('] [')\n",
    "                except IndexError:\n",
    "                    continue\n",
    "            for frag in temp:\n",
    "                if 'PartOfSpeech=NNP' in frag:\n",
    "                    text = frag.split('Text=')[1].split(' ')[0]\n",
    "                    position = frag.split('CharacterOffsetBegin=')[1].split(' ')[0]\n",
    "                    pos = convertoffset(numlist,keyposition[n]+j+1,int(position),obj[2][j])\n",
    "                    following[j].append([text,int(position),pos])\n",
    "                elif 'PartOfSpeech=N' in frag:\n",
    "                    text = frag.split('Text=')[1].split(' ')[0]\n",
    "                    position = frag.split('CharacterOffsetBegin=')[1].split(' ')[0]\n",
    "                    pos = convertoffset(numlist,keyposition[n]+j+1,int(position),obj[2][j])\n",
    "                    lex = []\n",
    "                    for synset in wn.synsets(text):\n",
    "                        lex.append(synset.lexname())\n",
    "                    if lex == []:\n",
    "                        continue\n",
    "                    if float(lex.count('noun.person'))/float(len(lex)) >= 0.4:\n",
    "                        following[j].append([text,int(position),pos])\n",
    "        entities.append([current,previous,following])\n",
    "        n = n +1\n",
    "        return entities\n",
    "\n",
    "entities = ner(instance)\n",
    "entities_new = entities[:]\n",
    "print entities\n",
    "\n",
    "#entities [name, offset in the paragraph, word position in the instance]"
   ]
  },
  {
   "cell_type": "code",
   "execution_count": 7,
   "metadata": {
    "collapsed": false
   },
   "outputs": [],
   "source": [
    "#combine contiguous name entities and separate those within and outside quotation marks\n",
    "def contiguous(instance,namelist,ni,cls,nl):\n",
    "    i = 0\n",
    "    t = len(namelist)-1\n",
    "    newlist = {}\n",
    "    newlist['in'] = []\n",
    "    newlist['out'] = []\n",
    "    while i < t:\n",
    "        if namelist[i+1][1]-namelist[i][1] == len(namelist[i][0])+1 and instance[ni][cls][nl][namelist[i][1]+len(namelist[i][0])] == ' ':\n",
    "            namelist[i][0] = namelist[i][0]+' '+namelist[i+1][0]\n",
    "            namelist.pop(i+1)\n",
    "            t = t - 1\n",
    "            i = i - 1\n",
    "        i = i + 1\n",
    "    for obj in namelist:\n",
    "        if instance[ni][cls][nl][0:obj[1]].count('\"')%2 == 1:\n",
    "            newlist['in'].append(obj)\n",
    "        else:\n",
    "            newlist['out'].append(obj)\n",
    "    return newlist\n",
    "\n",
    "for j in range(3):\n",
    "    for k in range(len(instance[0][j])):\n",
    "        entities_new[0][j][k] = contiguous(instance,entities[0][j][k],0,j,k)"
   ]
  },
  {
   "cell_type": "code",
   "execution_count": 8,
   "metadata": {
    "collapsed": false,
    "scrolled": true
   },
   "outputs": [
    {
     "name": "stdout",
     "output_type": "stream",
     "text": [
      "{'out': [[u'Ser Cortnay', 40, 677]], 'in': [[u'lady', 33, 676], [u'gods', 82, 685], [u'king', 104, 689]]}\n",
      "    \"I wish you well of them, my lady,\" Ser Cortnay answered, \"but I bow to other gods, and a different king.\"\n"
     ]
    }
   ],
   "source": [
    "print entities_new[0][0][0]\n",
    "print instance[0][0][0]"
   ]
  },
  {
   "cell_type": "code",
   "execution_count": 9,
   "metadata": {
    "collapsed": false,
    "scrolled": true
   },
   "outputs": [
    {
     "name": "stdout",
     "output_type": "stream",
     "text": [
      "[[[{'out': [[u'Ser Cortnay', 40, 677]], 'in': [[u'lady', 33, 676], [u'gods', 82, 685], [u'king', 104, 689]]}], [{'out': [[u'Davos', 74, 14], [u'king', 306, 58]], 'in': []}, {'out': [[u'man', 10, 64], [u'Davos Seaworth', 71, 76], [u'lords', 101, 81], [u'beasts', 292, 111], [u'Davos', 392, 128], [u'king', 403, 130]], 'in': []}, {'out': [[u'Davos', 25, 169], [u'king', 219, 210], [u'king', 242, 214], [u'Davos', 267, 218], [u'son Devan', 290, 222], [u'squires', 318, 228], [u'Stannis Baratheon', 336, 231], [u'Dragonstone', 495, 260], [u'king', 523, 264], [u'boy', 626, 281], [u'father', 650, 286]], 'in': [[u'Lord Renly', 559, 270], [u'Maester', 659, 287], [u'Lady Melisandre', 705, 296]]}, {'out': [[u'son', 203, 343], [u'boy', 225, 348], [u'father', 292, 361], [u'Lord', 359, 373], [u'king', 402, 383], [u'squire', 409, 385], [u'king', 483, 400], [u'god', 490, 402]], 'in': []}, {'out': [[u'Stannis', 97, 421], [u'Ser Cortnay', 142, 429], [u'standard-bearer', 162, 433]], 'in': []}, {'out': [], 'in': [[u'lord', 8, 448]]}, {'out': [[u'Lord Florent', 70, 468], [u'fox', 95, 473], [u'Lord', 234, 497], [u'Brightwater', 242, 499], [u'Renly', 281, 506], [u'Stannis', 314, 512], [u'gods', 357, 520], [u'Lord', 378, 525], [u'queen', 414, 532], [u'Dragonstone', 423, 534], [u'uncle Axell', 450, 538], [u'queen', 471, 542], [u'men', 479, 544], [u'Alester Florent', 530, 553]], 'in': [[u'king', 32, 462], [u'Grace', 52, 466]]}, {'out': [[u'Cortnay Penrose', 8, 559], [u'Stannis', 59, 566]], 'in': [[u'lords Estermont', 106, 574], [u'Errol', 123, 576], [u'Varner', 134, 578], [u'Jon', 146, 580], [u'Fossoways', 169, 585], [u'Ser Bryan', 183, 587], [u'Caron', 210, 593], [u'Ser Guyard', 220, 595], [u'King Renly', 234, 598], [u'Rainbow Guard', 247, 601], [u'Lord Alester Florent', 282, 606], [u'Brightwater', 306, 610], [u'Onion Knight', 344, 617], [u'Ser Davos', 386, 626], [u'lady', 422, 635]]}, {'out': [], 'in': [[u'Melisandre', 16, 639], [u'king', 154, 663], [u'Lord', 168, 666]]}], [{'out': [[u'Lord Florent', 62, 701]], 'in': [[u'king', 27, 695], [u'god', 46, 699]]}, {'out': [], 'in': [[u'lord', 41, 710]]}, {'out': [[u'Stannis', 47, 729]], 'in': []}, {'out': [[u'Ser Cortnay', 27, 785]], 'in': []}, {'out': [[u'Stannis', 29, 791]], 'in': [[u'lords', 100, 804], [u'men', 129, 810], [u'man', 275, 839]]}]]]\n"
     ]
    }
   ],
   "source": [
    "print entities_new"
   ]
  },
  {
   "cell_type": "code",
   "execution_count": 10,
   "metadata": {
    "collapsed": false
   },
   "outputs": [
    {
     "name": "stdout",
     "output_type": "stream",
     "text": [
      "[[[[[u'Ser Cortnay', 40, 677]]], [[[u'Davos', 74, 14], [u'king', 306, 58]], [[u'man', 10, 64], [u'Davos Seaworth', 71, 76], [u'lords', 101, 81], [u'beasts', 292, 111], [u'Davos', 392, 128], [u'king', 403, 130]], [[u'Davos', 25, 169], [u'king', 219, 210], [u'king', 242, 214], [u'Davos', 267, 218], [u'son Devan', 290, 222], [u'squires', 318, 228], [u'Stannis Baratheon', 336, 231], [u'Dragonstone', 495, 260], [u'king', 523, 264], [u'boy', 626, 281], [u'father', 650, 286]], [[u'son', 203, 343], [u'boy', 225, 348], [u'father', 292, 361], [u'Lord', 359, 373], [u'king', 402, 383], [u'squire', 409, 385], [u'king', 483, 400], [u'god', 490, 402]], [[u'Stannis', 97, 421], [u'Ser Cortnay', 142, 429], [u'standard-bearer', 162, 433]], [], [[u'Lord Florent', 70, 468], [u'fox', 95, 473], [u'Lord', 234, 497], [u'Brightwater', 242, 499], [u'Renly', 281, 506], [u'Stannis', 314, 512], [u'gods', 357, 520], [u'Lord', 378, 525], [u'queen', 414, 532], [u'Dragonstone', 423, 534], [u'uncle Axell', 450, 538], [u'queen', 471, 542], [u'men', 479, 544], [u'Alester Florent', 530, 553]], [[u'Cortnay Penrose', 8, 559], [u'Stannis', 59, 566]], []], [[[u'Lord Florent', 62, 701]], [], [[u'Stannis', 47, 729]], [[u'Ser Cortnay', 27, 785]], [[u'Stannis', 29, 791]]]]]\n"
     ]
    }
   ],
   "source": [
    "entities_out = []\n",
    "for i in range(len(entities_new)):\n",
    "    entities_out.append([])\n",
    "    for j in range(3):\n",
    "        entities_out[i].append([])\n",
    "        for k in range(len(entities_new[i][j])):\n",
    "            entities_out[i][j].append([])\n",
    "            entities_out[i][j][k] = entities_new[i][j][k]['out']\n",
    "print entities_out"
   ]
  },
  {
   "cell_type": "code",
   "execution_count": 44,
   "metadata": {
    "collapsed": true
   },
   "outputs": [],
   "source": [
    "def countpunctuation(sentence,l):\n",
    "    punctuation = [',', '.', '\\n', '!', '?', '\"']\n",
    "    for i in range(len(punctuation)):\n",
    "        l[i] = l[i] + sentence.count(punctuation[i])"
   ]
  },
  {
   "cell_type": "code",
   "execution_count": 74,
   "metadata": {
    "collapsed": false
   },
   "outputs": [
    {
     "name": "stdout",
     "output_type": "stream",
     "text": [
      "[2, 4, 0, 0, 0, 2]\n",
      "456\n"
     ]
    }
   ],
   "source": [
    "text = 'Davos had almost forgotten how high and thick the walls of Storm\\'s End loomed up close. King Stannis halted beneath them, a few feet from Ser Cortnay and his standard-bearer. \"Ser,\" he said with stiff courtesy. He made no move to dismount.'\n",
    "l = [0,0,0,0,0,0]\n",
    "countpunctuation(text,l)\n",
    "print l\n",
    "\n",
    "txt = '123\"456'\n",
    "print txt[4:7]"
   ]
  },
  {
   "cell_type": "code",
   "execution_count": 75,
   "metadata": {
    "collapsed": false,
    "scrolled": true
   },
   "outputs": [
    {
     "name": "stdout",
     "output_type": "stream",
     "text": [
      "[[0, 0], [24, 47], [52, 48], [103, 46], [108, 49], [110, 45], [114, 50], [116, 44], [125, 43], [127, 42], [131, 41], [135, 40], [137, 39], [144, 38], [149, 37], [157, 36], [163, 35], [170, 34], [172, 33], [196, 32], [201, 31], [236, 30], [240, 29], [248, 28], [267, 27], [269, 26], [284, 25], [286, 24], [296, 23], [308, 22], [321, 21], [326, 20], [383, 19], [388, 18], [405, 17], [409, 16], [438, 15], [441, 14], [447, 13], [451, 12], [455, 11], [459, 10], [500, 9], [539, 8], [541, 7], [558, 6], [588, 5], [593, 4], [605, 3], [611, 2], [655, 1]]\n",
      "[[0, 0, 0, 0, 0, 0], [41, 47, 9, 0, 4, 16], [39, 45, 9, 0, 4, 16], [38, 42, 8, 0, 4, 16], [38, 42, 8, 0, 4, 16], [37, 42, 8, 0, 4, 16], [34, 41, 8, 0, 4, 16], [34, 39, 8, 0, 4, 16], [33, 39, 8, 0, 4, 16], [32, 37, 7, 0, 4, 16], [31, 36, 7, 0, 4, 16], [31, 35, 7, 0, 4, 16], [30, 35, 7, 0, 4, 16], [30, 35, 7, 0, 4, 16], [29, 35, 7, 0, 4, 16], [29, 34, 7, 0, 4, 16], [27, 33, 7, 0, 4, 16], [27, 32, 7, 0, 4, 16], [25, 31, 7, 0, 4, 14], [25, 31, 7, 0, 4, 14], [23, 27, 6, 0, 1, 12], [23, 26, 6, 0, 1, 12], [21, 26, 6, 0, 1, 12], [20, 26, 6, 0, 1, 12], [20, 25, 6, 0, 1, 12], [20, 25, 6, 0, 1, 12], [18, 25, 6, 0, 1, 12], [18, 25, 6, 0, 1, 12], [18, 23, 5, 0, 1, 12], [17, 23, 5, 0, 1, 12], [17, 23, 5, 0, 1, 12], [14, 18, 3, 0, 1, 6], [14, 17, 3, 0, 1, 6], [11, 16, 3, 0, 1, 6], [11, 16, 3, 0, 1, 6], [11, 16, 3, 0, 1, 6], [11, 16, 3, 0, 1, 6], [10, 16, 3, 0, 1, 6], [10, 16, 3, 0, 1, 6], [10, 15, 3, 0, 1, 6], [10, 15, 3, 0, 1, 6], [10, 15, 3, 0, 1, 6], [9, 15, 3, 0, 1, 6], [9, 15, 3, 0, 1, 6], [8, 15, 3, 0, 1, 6], [8, 14, 2, 0, 1, 6], [7, 14, 2, 0, 1, 6], [4, 1, 1, 0, 0, 4], [7, 3, 3, 0, 1, 8], [11, 10, 4, 0, 2, 12], [12, 11, 5, 0, 2, 14]]\n"
     ]
    }
   ],
   "source": [
    "# to extract the distance between the candidat and the quote, with counting the punctuations between them\n",
    "def distance(entities,num_instance):\n",
    "    sentence = instance[num_instance][0][0]\n",
    "    numlist = countwordperline(instance[num_instance],num_instance)\n",
    "    if sentence.count('\"') == 1:\n",
    "        offset = [sentence.index('\"')]\n",
    "        position = [convertoffset(countwordperline(instance[num_instance],num_instance),keyposition[num_instance],offset[0],instance[num_instance][0][0])]\n",
    "    else:\n",
    "        offset = []\n",
    "        p = 0\n",
    "        for c in sentence:\n",
    "            if c == '\"':\n",
    "                offset.append(p)\n",
    "            p = p+1\n",
    "        position = []\n",
    "        for i in range(2):\n",
    "            position.append(convertoffset(countwordperline(instance[num_instance],num_instance),keyposition[num_instance],offset[i],instance[num_instance][0][0]))\n",
    "    dist = []\n",
    "    cp = []\n",
    "    for i in range(3):\n",
    "        for j in range(len(entities[i])):\n",
    "            for k in range(len(entities[i][j])):\n",
    "                cp.append([0,0,0,0,0,0])\n",
    "                pos = entities[i][j][k][2]\n",
    "                ofs = entities[i][j][k][1]\n",
    "                if len(position) == 1:\n",
    "                    dist.append([abs(pos-position[0])])\n",
    "                else:\n",
    "                    if pos <= position[0]:\n",
    "                        dist.append([position[0]-pos])\n",
    "                    elif pos >= position[1]:\n",
    "                        dist.append([pos-position[1]])\n",
    "                (x,y) = convertposition(numlist,keyposition[num_instance],pos)\n",
    "                stc = instance[num_instance][x][y]\n",
    "                if len(offset)>1:\n",
    "                    if x == 1:\n",
    "                        countpunctuation(stc[ofs:],cp[-1])\n",
    "                        cp[-1][2] = cp[-1][2]+1\n",
    "                        for s in range(y+1,keyposition[num_instance]-1):\n",
    "                            cp[-1][2] = cp[-1][2]+1\n",
    "                            countpunctuation(instance[num_instance][x][s],cp[-1])\n",
    "                        countpunctuation(sentence[:offset[0]],cp[-1])\n",
    "                    elif (x == 0 and ofs < offset[0]):\n",
    "                        countpunctuation(sentence[ofs:offset[0]],cp[-1])\n",
    "                    elif x == 2:\n",
    "                        countpunctuation(stc[:ofs],cp[-1])\n",
    "                        for s in range(y):\n",
    "                            countpunctuation(instance[num_instance][x][s],cp[-1])\n",
    "                            cp[-1][2] = cp[-1][2]+1\n",
    "                        countpunctuation(sentence[offset[1]+1:],cp[-1])\n",
    "                        cp[-1][2] = cp[-1][2]+1\n",
    "                    else:\n",
    "                        countpunctuation(sentence[offset[1]+1:ofs+1],cp[-1])\n",
    "                else:\n",
    "                    if x == 1:\n",
    "                        countpunctuation(stc[ofs:],cp[-1])\n",
    "                        cp[-1][2] = cp[-1][2]+1\n",
    "                        for s in range(y+1,keyposition[num_instance]-1):\n",
    "                            cp[-1][2] = cp[-1][2]+1\n",
    "                            countpunctuation(instance[num_instance][x][s],cp[-1])\n",
    "                        countpunctuation(sentence[:offset[0]],cp[-1])\n",
    "                    elif x == 2:\n",
    "                        countpunctuation(stc[:ofs],cp[-1])\n",
    "                        cp[-1][2] = cp[-1][2]+1\n",
    "                        for s in range(y):\n",
    "                            cp[-1][2] = cp[-1][2]+1\n",
    "                            countpunctuation(instance[num_instance][x][s],cp[-1])\n",
    "                    else:\n",
    "                        countpunctuation(sentence[ofs:offset[0]],cp[-1])\n",
    "                        \n",
    "    return dist,cp\n",
    "                \n",
    "temp = distance(entities_out[0],0)\n",
    "feature = temp[0][:]\n",
    "order = feature[:]\n",
    "for i in range(len(feature)):\n",
    "    order[i] = [order[i][0],i]\n",
    "order.sort()\n",
    "print order\n",
    "print temp[1]"
   ]
  },
  {
   "cell_type": "code",
   "execution_count": 76,
   "metadata": {
    "collapsed": false
   },
   "outputs": [
    {
     "name": "stdout",
     "output_type": "stream",
     "text": [
      "[[0, 1, 0, 0, 0, 0, 0, 0], [655, 51, 41, 47, 9, 0, 4, 16], [611, 50, 39, 45, 9, 0, 4, 16], [605, 49, 38, 42, 8, 0, 4, 16], [593, 48, 38, 42, 8, 0, 4, 16], [588, 47, 37, 42, 8, 0, 4, 16], [558, 46, 34, 41, 8, 0, 4, 16], [541, 45, 34, 39, 8, 0, 4, 16], [539, 44, 33, 39, 8, 0, 4, 16], [500, 43, 32, 37, 7, 0, 4, 16], [459, 42, 31, 36, 7, 0, 4, 16], [455, 41, 31, 35, 7, 0, 4, 16], [451, 40, 30, 35, 7, 0, 4, 16], [447, 39, 30, 35, 7, 0, 4, 16], [441, 38, 29, 35, 7, 0, 4, 16], [438, 37, 29, 34, 7, 0, 4, 16], [409, 36, 27, 33, 7, 0, 4, 16], [405, 35, 27, 32, 7, 0, 4, 16], [388, 34, 25, 31, 7, 0, 4, 14], [383, 33, 25, 31, 7, 0, 4, 14], [326, 32, 23, 27, 6, 0, 1, 12], [321, 31, 23, 26, 6, 0, 1, 12], [308, 30, 21, 26, 6, 0, 1, 12], [296, 29, 20, 26, 6, 0, 1, 12], [286, 28, 20, 25, 6, 0, 1, 12], [284, 27, 20, 25, 6, 0, 1, 12], [269, 26, 18, 25, 6, 0, 1, 12], [267, 25, 18, 25, 6, 0, 1, 12], [248, 24, 18, 23, 5, 0, 1, 12], [240, 23, 17, 23, 5, 0, 1, 12], [236, 22, 17, 23, 5, 0, 1, 12], [201, 21, 14, 18, 3, 0, 1, 6], [196, 20, 14, 17, 3, 0, 1, 6], [172, 19, 11, 16, 3, 0, 1, 6], [170, 18, 11, 16, 3, 0, 1, 6], [163, 17, 11, 16, 3, 0, 1, 6], [157, 16, 11, 16, 3, 0, 1, 6], [149, 15, 10, 16, 3, 0, 1, 6], [144, 14, 10, 16, 3, 0, 1, 6], [137, 13, 10, 15, 3, 0, 1, 6], [135, 12, 10, 15, 3, 0, 1, 6], [131, 11, 10, 15, 3, 0, 1, 6], [127, 10, 9, 15, 3, 0, 1, 6], [125, 9, 9, 15, 3, 0, 1, 6], [116, 8, 8, 15, 3, 0, 1, 6], [110, 6, 8, 14, 2, 0, 1, 6], [103, 4, 7, 14, 2, 0, 1, 6], [24, 2, 4, 1, 1, 0, 0, 4], [52, 3, 7, 3, 3, 0, 1, 8], [108, 5, 11, 10, 4, 0, 2, 12], [114, 7, 12, 11, 5, 0, 2, 14]]\n"
     ]
    }
   ],
   "source": [
    "for i in range(len(order)):\n",
    "    feature[order[i][1]].append(i+1)\n",
    "for i in range(len(feature)):\n",
    "    feature[i] = feature[i] + temp[1][i]\n",
    "print feature"
   ]
  },
  {
   "cell_type": "code",
   "execution_count": 188,
   "metadata": {
    "collapsed": true
   },
   "outputs": [],
   "source": [
    "#feature [distance from the quote, \n",
    "#         the ordinal position, \n",
    "#         6 numbers of ',', '.', '\\n', '!', '?', '\"']"
   ]
  }
 ],
 "metadata": {
  "kernelspec": {
   "display_name": "Python 2",
   "language": "python",
   "name": "python2"
  },
  "language_info": {
   "codemirror_mode": {
    "name": "ipython",
    "version": 2
   },
   "file_extension": ".py",
   "mimetype": "text/x-python",
   "name": "python",
   "nbconvert_exporter": "python",
   "pygments_lexer": "ipython2",
   "version": "2.7.6"
  }
 },
 "nbformat": 4,
 "nbformat_minor": 0
}
