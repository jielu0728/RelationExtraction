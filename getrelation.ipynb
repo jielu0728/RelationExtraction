{
 "cells": [
  {
   "cell_type": "code",
   "execution_count": 13,
   "metadata": {
    "collapsed": false
   },
   "outputs": [],
   "source": [
    "import nltk\n",
    "import string"
   ]
  },
  {
   "cell_type": "code",
   "execution_count": 32,
   "metadata": {
    "collapsed": false
   },
   "outputs": [
    {
     "name": "stdout",
     "output_type": "stream",
     "text": [
      "Edmure\n",
      "Robb\n",
      "Brandon\n",
      "Rhaegar\n",
      "Jaime\n",
      "Jaime\n",
      "Jaime\n",
      "Rhaegar\n",
      "Edmure\n",
      "Jaime\n",
      "Benjen\n",
      "Jaime\n",
      "Stannis\n",
      "Brandon\n"
     ]
    }
   ],
   "source": [
    "f = open('./text', 'r')\n",
    "f2 = open('./result', 'r')\n",
    "name = []\n",
    "\n",
    "for line in f2:\n",
    "    name.append(line.split('      ')[0])\n",
    "\n",
    "keyword = ['brother']\n",
    "person = ['my']\n",
    "table = string.maketrans(\"\",\"\")       # remove the punctuations\n",
    "\n",
    "for line in f:\n",
    "    if person[0]+' '+keyword[0] in line:\n",
    "        if line.split(person[0]+' '+keyword[0])[0].count('\"')%2 == 1:\n",
    "            if line.split(person[0]+' '+keyword[0])[1][0] == ' ':\n",
    "                keyword_name = line.split(person[0]+' '+keyword[0])[1].split(' ')[1].translate(table, string.punctuation)\n",
    "                if keyword_name in name:\n",
    "                    print keyword_name\n",
    "                    #part = line.split('\"')\n",
    "                    #for i in range(0,len(part),2):\n",
    "                    #    print part[i]+'\\n'\n",
    "                    \n",
    "f.close()\n",
    "f2.close()"
   ]
  },
  {
   "cell_type": "code",
   "execution_count": null,
   "metadata": {
    "collapsed": true
   },
   "outputs": [],
   "source": []
  }
 ],
 "metadata": {
  "kernelspec": {
   "display_name": "Python 2",
   "language": "python",
   "name": "python2"
  },
  "language_info": {
   "codemirror_mode": {
    "name": "ipython",
    "version": 2
   },
   "file_extension": ".py",
   "mimetype": "text/x-python",
   "name": "python",
   "nbconvert_exporter": "python",
   "pygments_lexer": "ipython2",
   "version": "2.7.6"
  }
 },
 "nbformat": 4,
 "nbformat_minor": 0
}
