{
 "cells": [
  {
   "cell_type": "code",
   "execution_count": 13,
   "metadata": {
    "collapsed": false
   },
   "outputs": [],
   "source": [
    "import nltk\n",
    "import string"
   ]
  },
  {
   "cell_type": "code",
   "execution_count": 31,
   "metadata": {
    "collapsed": false
   },
   "outputs": [
    {
     "name": "stdout",
     "output_type": "stream",
     "text": [
      "  \"It is not your sword I want, ser,\" she told him. \"Give me my father and my brother Edmure. Give me my daughters. Give me my lord husband.\"\r\n",
      "\n",
      "  \"So did I,\" Jon told them. \"Don't you understand? They murdered my father. It's war, my brother Robb is fighting in the riverlands-\"\r\n",
      "\n",
      "  \"It has a name, does it?\" Her father sighed. \"Ah, Arya. You have a wildness in you, child. 'The wolf blood,' my father used to call it. Lyanna had a touch of it, and my brother Brandon more than a touch. It brought them both to an early grave.\" Arya heard sadness in his voice; he did not often speak of his father, or of the brother and sister who had died before she was born. \"Lyanna might have carried a sword, if my lord father had allowed it. You remind me of her sometimes. You even look like her.\"\r\n",
      "\n",
      "  \"You do not understand, ser,\" she said. \"My mother died giving me birth, and my father and my brother Rhaegar even before that. I would never have known so much as their names if Viserys had not been there to tell me. He was the only one left. The only one. He is all I have.\"\r\n",
      "\n",
      "  \"When my brother Jaime was unhorsed by the Knight of Flowers, that was his story, no?\"\r\n",
      "\n",
      "  He was in deadly earnest, Tyrion realized. He felt faintly embarrassed for the old man. Lord Mormont had spent a good part of his life on the Wall, and he needed to believe if those years were to have any meaning. \"I promise, the king will hear of your need,\" Tyrion said gravely, \"and I will speak to my father and my brother Jaime as well.\" And he would. Tyrion Lannister was as good as his word. He left the rest unsaid; that King Robert would ignore him, Lord Tywin would ask if he had taken leave of his senses, and Jaime would only laugh.\r\n",
      "\n",
      "  \"Or my brother Jaime,\" Tyrion said. \"We shall know soon enough.\" He surveyed his ragged band of brigands: near three hundred Stone Crows, Moon Brothers, Black Ears, and Burned Men, and those just the seed of the army he hoped to grow. Gunthor son of Gurn was raising the other clans even now. He wondered what his lord father would make of them in their skins and bits of stolen steel. If truth be told, he did not know what to make of them himself. Was he their commander or their captive? Most of the time, it seemed to be a little of both. \"It might be best if I rode down alone,\" he suggested.\r\n",
      "\n",
      "  Dany had no agents, no way of knowing what anyone was doing or thinking across the narrow sea, but she mistrusted Illyrio's sweet words as she mistrusted everything about Illyrio. Her brother was nodding eagerly, however. \"I shall kill the Usurper myself,\" he promised, who had never killed anyone, \"as he killed my brother Rhaegar. And Lannister too, the Kingslayer, for what he did to my father.\"\r\n",
      "\n",
      "  \"I like it.\" Catelyn stroked the wolf's head, gently. \"It makes you look like my brother Edmure.\" Grey Wind nipped at her fingers, playful, and trotted back to his place by the fire.\r\n",
      "\n",
      "  \"Well done,\" Tyrion said. \"Scum you may be, but you're undeniably useful, and with a sword in your hand you're almost as good as my brother Jaime. What do you want, Bronn? Gold? Land? Women? Keep me alive, and you'll have it.\"\r\n",
      "\n",
      "  \"My daughter often forgets her courtesies,\" Eddard Stark said with a faint smile that softened his words. \"I beg your forgiveness, Yoren. Did my brother Benjen send you?\"\r\n",
      "\n",
      "  \"Lady Arryn, should any harm come to me, my brother Jaime will be pleased to see that they do.\" Even as he spat out the words, Tyrion knew they were folly.\r\n",
      "\n",
      "  Lord Renly laughed. \"We're fortunate my brother Stannis is not with us. Remember the time he proposed to outlaw brothels? The king asked him if perhaps he'd like to outlaw eating, shitting, and breathing while he was at it. If truth be told, I ofttimes wonder how Stannis ever got that ugly daughter of his. He goes to his marriage bed like a man marching to a battlefield, with a grim look in his eyes and a determination to do his duty.\"\r\n",
      "\n",
      "  \"She has,\" Ned replied with a chill in his voice. The sly arrogance of the comment rankled him. \"I understand you knew my brother Brandon as well.\"\r\n",
      "\n"
     ]
    }
   ],
   "source": [
    "f = open('./text', 'r')\n",
    "f2 = open('./result', 'r')\n",
    "name = []\n",
    "\n",
    "for line in f2:\n",
    "    name.append(line.split('      ')[0])\n",
    "\n",
    "keyword = ['brother']\n",
    "person = ['my']\n",
    "table = string.maketrans(\"\",\"\")       # remove the punctuations\n",
    "\n",
    "for line in f:\n",
    "    if person[0]+' '+keyword[0] in line:\n",
    "        if line.split(person[0]+' '+keyword[0])[0].count('\"')%2 == 1:\n",
    "            if line.split(person[0]+' '+keyword[0])[1][0] == ' ':\n",
    "                keyword_name = line.split(person[0]+' '+keyword[0])[1].split(' ')[1].translate(table, string.punctuation)\n",
    "                if keyword_name in name:\n",
    "                    print line\n",
    "                    #print keyword_name\n",
    "                    #part = line.split('\"')\n",
    "                    #for i in range(0,len(part),2):\n",
    "                    #    print part[i]+'\\n'\n",
    "                    \n",
    "f.close()\n",
    "f2.close()"
   ]
  },
  {
   "cell_type": "code",
   "execution_count": null,
   "metadata": {
    "collapsed": true
   },
   "outputs": [],
   "source": []
  }
 ],
 "metadata": {
  "kernelspec": {
   "display_name": "Python 2",
   "language": "python",
   "name": "python2"
  },
  "language_info": {
   "codemirror_mode": {
    "name": "ipython",
    "version": 2
   },
   "file_extension": ".py",
   "mimetype": "text/x-python",
   "name": "python",
   "nbconvert_exporter": "python",
   "pygments_lexer": "ipython2",
   "version": "2.7.6"
  }
 },
 "nbformat": 4,
 "nbformat_minor": 0
}
